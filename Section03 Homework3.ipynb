{
 "cells": [
  {
   "cell_type": "markdown",
   "id": "a2ecf623-54ae-46f9-94fc-17bc789e3c86",
   "metadata": {},
   "source": [
    "1. What is an algorithm?\n",
    "\n",
    "   - An algorithm is a series of steps to solve a problem at hand"
   ]
  },
  {
   "cell_type": "markdown",
   "id": "e0022aa7-e3ac-4b6b-983c-12af30d84604",
   "metadata": {},
   "source": [
    "2. Variable names may not start with certain characters - name two\n",
    "\n",
    "   i. Numbers \\\n",
    "   ii. Special characters"
   ]
  },
  {
   "cell_type": "markdown",
   "id": "e05bbee8-e34a-48e1-9145-04b078ca21fe",
   "metadata": {},
   "source": [
    "3. What is a Semantic error?\n",
    "\n",
    "   - code is grammatically correct but doesn't make any sense; it does not produce the expected results"
   ]
  },
  {
   "cell_type": "markdown",
   "id": "1d394ee7-1e88-4cc1-bfd4-70d26947a85c",
   "metadata": {},
   "source": [
    "4. What is the #1 rule of coding/debugging?\n",
    "\n",
    "  - Complexity is the enemy of efficiency!"
   ]
  },
  {
   "cell_type": "markdown",
   "id": "223cdadd-eec0-42a1-8857-5be008e5ee99",
   "metadata": {},
   "source": [
    "5. List 5 Python reserved words.\n",
    "\n",
    "   i. from \\\n",
    "   ii. and \\\n",
    "   iii. if \\\n",
    "   iv. import \\\n",
    "   v. else"
   ]
  },
  {
   "cell_type": "markdown",
   "id": "10bab44e-35b5-40ae-ba52-4f610973832e",
   "metadata": {},
   "source": [
    "6. Write a multi-line comment with your name, favorite food, and dreamjob on 3 different lines"
   ]
  },
  {
   "cell_type": "code",
   "execution_count": 1,
   "id": "65ea9977-6efe-4a9d-85b1-c0f096d81e9b",
   "metadata": {},
   "outputs": [],
   "source": [
    "# My name is Sylvester Opoku\n",
    "# My favorite food is called Jollof Rice\n",
    "# My dream job is to become a Data Analyst"
   ]
  },
  {
   "cell_type": "markdown",
   "id": "01ebfaa3-6a58-4d7c-84ec-76b6a49a34b7",
   "metadata": {},
   "source": [
    "7. Assign 5 different data types to 5 different variables. At least one datatype must be a string"
   ]
  },
  {
   "cell_type": "code",
   "execution_count": 2,
   "id": "65aff7e0-32ca-4927-a437-b4b3e6bdd0d9",
   "metadata": {},
   "outputs": [
    {
     "name": "stdout",
     "output_type": "stream",
     "text": [
      "1 1.2 Massachusetts 3 Missouri\n"
     ]
    }
   ],
   "source": [
    "var1, var2, var3, var4, var5 = 1, 1.2, 'Massachusetts', 3, 'Missouri'\n",
    "print(var1, var2, var3, var4, var5)"
   ]
  },
  {
   "cell_type": "code",
   "execution_count": 3,
   "id": "92c33962-ea02-4add-a56b-69c5788c4e00",
   "metadata": {},
   "outputs": [
    {
     "name": "stdout",
     "output_type": "stream",
     "text": [
      "the length of my string is =  14\n",
      "the index value of the 4th character is = t\n"
     ]
    }
   ],
   "source": [
    "my_var1= 10\n",
    "my_var2 = 'Photosynthesis'\n",
    "my_var3 = 3.5\n",
    "my_var4 = (1,2,3,4)\n",
    "my_var5 = {'Soap':'Dove'}\n",
    "print('the length of my string is = ', len(my_var2))\n",
    "print('the index value of the 4th character is =', my_var2[3])"
   ]
  },
  {
   "cell_type": "markdown",
   "id": "381345d7-ecbd-42a3-a97c-8bdbbff603d7",
   "metadata": {},
   "source": [
    "7.1 Print the length of your string"
   ]
  },
  {
   "cell_type": "code",
   "execution_count": 4,
   "id": "5b17d009-dd3a-41cf-b664-1b6fe9c9f45e",
   "metadata": {},
   "outputs": [
    {
     "name": "stdout",
     "output_type": "stream",
     "text": [
      "13\n",
      "8\n"
     ]
    }
   ],
   "source": [
    "# length of my string\n",
    "length1= len(var3)\n",
    "length2= len(var5)\n",
    "print(length1)\n",
    "print(length2)"
   ]
  },
  {
   "cell_type": "markdown",
   "id": "4feb8ddc-b2dd-4863-91bc-6f113e430daa",
   "metadata": {},
   "source": [
    "7.2 Print the index value of the 4th character in your string"
   ]
  },
  {
   "cell_type": "code",
   "execution_count": 5,
   "id": "6a746bc3-9808-4662-aa13-c7f4733a0184",
   "metadata": {},
   "outputs": [
    {
     "name": "stdout",
     "output_type": "stream",
     "text": [
      "s\n",
      "s\n"
     ]
    }
   ],
   "source": [
    "# printing the index of the 4th variable\n",
    "print(var3[3])\n",
    "print(var5[3])"
   ]
  },
  {
   "cell_type": "markdown",
   "id": "3ffe6488-2fb1-4643-b7de-9e01db6330bf",
   "metadata": {},
   "source": [
    "8. Create a new variable called savvy, and assign it the string with this phrase \"Learning Data Analytics and Python is Awesome\""
   ]
  },
  {
   "cell_type": "code",
   "execution_count": 6,
   "id": "73453d64-e889-4eae-9f1c-19a5c1915208",
   "metadata": {},
   "outputs": [
    {
     "name": "stdout",
     "output_type": "stream",
     "text": [
      "Learning Data Analytics and Python is Awesome!\n"
     ]
    }
   ],
   "source": [
    "savvy='Learning Data Analytics and Python is Awesome!'\n",
    "print(savvy)"
   ]
  },
  {
   "cell_type": "markdown",
   "id": "96082ba4-595e-4eaa-85cc-2b657cd6e9b8",
   "metadata": {},
   "source": [
    "8.1 Return a range of characters that slices the above string from the beginning of \"ing\" up to before \"and\""
   ]
  },
  {
   "cell_type": "code",
   "execution_count": 211,
   "id": "c4f8cdc1-5ef2-4130-b2ca-ef47927bc8d6",
   "metadata": {},
   "outputs": [
    {
     "name": "stdout",
     "output_type": "stream",
     "text": [
      "slicing from the 5th character to the 24th character= ing Data Analytics \n"
     ]
    }
   ],
   "source": [
    "# slicing the above string from ing up to before \"and\"\n",
    "print('slicing from the 5th character to the 24th character=', savvy[5:24])"
   ]
  },
  {
   "cell_type": "markdown",
   "id": "7c8d3d78-6535-4959-b441-89ed4db7cda5",
   "metadata": {},
   "source": [
    "8.2 Replace \"Awesome\" with \"great\" in the string"
   ]
  },
  {
   "cell_type": "code",
   "execution_count": 8,
   "id": "a80159c5-a4e0-44a2-9848-2134ceeb0c7b",
   "metadata": {},
   "outputs": [
    {
     "name": "stdout",
     "output_type": "stream",
     "text": [
      "Learning Data Analytics and Python is great!\n"
     ]
    }
   ],
   "source": [
    "# Replacing Awesome with great in the string above\n",
    "savvy1= savvy.replace('Awesome', 'great')\n",
    "print(savvy1)"
   ]
  },
  {
   "cell_type": "markdown",
   "id": "70461f5a-00b4-4247-ab63-3a9d6f33d9fc",
   "metadata": {},
   "source": [
    "9. Create and assign 3 more variables called name, age and length using the multi-variable naming method"
   ]
  },
  {
   "cell_type": "code",
   "execution_count": 9,
   "id": "4133667f-0287-4896-b507-fff8538ed2d5",
   "metadata": {},
   "outputs": [
    {
     "name": "stdout",
     "output_type": "stream",
     "text": [
      "Sylvester 5.6 29\n"
     ]
    }
   ],
   "source": [
    "Name, Length, Age = 'Sylvester', 5.6, 29\n",
    "print(Name, Length, Age)"
   ]
  },
  {
   "cell_type": "markdown",
   "id": "3f61890d-f3e8-441e-a6d0-343c40ec8e95",
   "metadata": {},
   "source": [
    "9.1 Format a new string called 'miniBio' using variables in curly brackets to complete this phrase... \"Hi my name is (name), I am (tall) and (so) old today.\""
   ]
  },
  {
   "cell_type": "code",
   "execution_count": 212,
   "id": "a7463841-4e86-49d0-8ac3-502fb9dcfeac",
   "metadata": {},
   "outputs": [
    {
     "name": "stdout",
     "output_type": "stream",
     "text": [
      "My name is Sylvester, I am 5.6 tall, and 29 years old today\n"
     ]
    }
   ],
   "source": [
    "miniBio= 'My name is {}, I am {} tall, and {} years old today'\n",
    "# Print 'miniBio'\n",
    "print(miniBio.format(Name, Length, Age) )"
   ]
  },
  {
   "cell_type": "markdown",
   "id": "778a1ad3-203d-4b74-bbf7-832eaaccaf93",
   "metadata": {},
   "source": [
    "9.3 Cast and print the age variable to a float"
   ]
  },
  {
   "cell_type": "code",
   "execution_count": 213,
   "id": "b56f9983-c507-40f6-b723-72b4f5d0fe5a",
   "metadata": {},
   "outputs": [
    {
     "name": "stdout",
     "output_type": "stream",
     "text": [
      "29.0\n"
     ]
    }
   ],
   "source": [
    "# casting to a float\n",
    "cast = float(29)\n",
    "print(cast)"
   ]
  },
  {
   "cell_type": "code",
   "execution_count": 215,
   "id": "3b4023fa-13ff-4caa-ac32-667a863c9516",
   "metadata": {},
   "outputs": [
    {
     "name": "stdout",
     "output_type": "stream",
     "text": [
      "My name is Sylvester, I am 5.6 tall, and 29.0 years old today\n"
     ]
    }
   ],
   "source": [
    "# Age been cast to a float\n",
    "print(miniBio.format(Name, Length, cast) )"
   ]
  },
  {
   "cell_type": "markdown",
   "id": "eaa24288-7315-4fb1-9c6a-be63af6e8df7",
   "metadata": {},
   "source": [
    "## Complex Data Types:"
   ]
  },
  {
   "cell_type": "markdown",
   "id": "eea08ec4-2803-41f8-a6f1-934930888360",
   "metadata": {},
   "source": [
    "10.0 Create a list of at least 5 elements of mixed data types"
   ]
  },
  {
   "cell_type": "code",
   "execution_count": 216,
   "id": "b3f91da9-e86a-484c-a7e2-fd349a088798",
   "metadata": {},
   "outputs": [
    {
     "name": "stdout",
     "output_type": "stream",
     "text": [
      " replaced [2:4] = ['Hello', 'python', 'sweet', 'Data', 'is', 'Captain_America', 5]\n"
     ]
    }
   ],
   "source": [
    "# Create a list of at least 5 elements of mixed data types\n",
    "my_list = [\"Hello\", \"SavvyCoders\", 9.2, 'Data', \"is\", \"Captain_America\", 5]\n",
    "my_list[1:3] = [\"python\", \"sweet\"]\n",
    "# Replace a part of it with something else\n",
    "print(\" replaced [2:4] =\", my_list)"
   ]
  },
  {
   "cell_type": "code",
   "execution_count": 217,
   "id": "02fe6a1c-310c-46d6-826f-0b7d7dbd28f6",
   "metadata": {},
   "outputs": [
    {
     "name": "stdout",
     "output_type": "stream",
     "text": [
      "my new list is = ['Hello', 'python', 'sweet', 'Data', 'is', 'Captain_America', 5]\n"
     ]
    }
   ],
   "source": [
    "print('my new list is =', my_list)"
   ]
  },
  {
   "cell_type": "markdown",
   "id": "62b8177e-16be-4531-a797-fb1c686cea52",
   "metadata": {},
   "source": [
    "10.3 Appending an element"
   ]
  },
  {
   "cell_type": "code",
   "execution_count": 19,
   "id": "f635e177-ef84-4221-ab03-3a55260b8578",
   "metadata": {},
   "outputs": [
    {
     "name": "stdout",
     "output_type": "stream",
     "text": [
      " replaced [2:5] ...  ['Hello', 'python', 'SavvyCoders', 'July', 'cohort', 'Captain_America', 5]\n"
     ]
    }
   ],
   "source": [
    "# 'APPEND' elements at the end of the list\n",
    "my_list\n",
    "my_list[2:5] = [\"SavvyCoders\", \"July\", \"cohort\"]\n",
    "print(\" replaced [2:5] ... \", my_list)"
   ]
  },
  {
   "cell_type": "code",
   "execution_count": 218,
   "id": "a6d5f2db-e484-4f15-b5f0-978c21d00197",
   "metadata": {},
   "outputs": [
    {
     "name": "stdout",
     "output_type": "stream",
     "text": [
      "The length of my_list is = 7\n"
     ]
    }
   ],
   "source": [
    "# 10.4 Finding my length of my new list\n",
    "print('The length of my_list is =',len(my_list))"
   ]
  },
  {
   "cell_type": "code",
   "execution_count": 219,
   "id": "94ab669e-5eba-425b-a4c2-8d67ee663e3b",
   "metadata": {},
   "outputs": [
    {
     "name": "stdout",
     "output_type": "stream",
     "text": [
      "This is my subset is = ['python', 'sweet', 'Data', 'is', 'Captain_America', 5]\n"
     ]
    }
   ],
   "source": [
    "# 10.5 Slice a sub-section of the 1st list, and save it to a different 2nd list \n",
    "# Print the 2nd list\n",
    "my_list\n",
    "if 'SavvyCoders' in my_list:\n",
    "    print(\"Indeed, 'SavvyCoders' is the best.\")\n",
    "\n",
    "my_list2=my_list[1:8]\n",
    "print('This is my subset is =', my_list2)"
   ]
  },
  {
   "cell_type": "markdown",
   "id": "257316eb-b170-468b-9535-f30e16be48f1",
   "metadata": {},
   "source": [
    "10.6 Extend your original list with the 2nd list sliced above"
   ]
  },
  {
   "cell_type": "code",
   "execution_count": 42,
   "id": "ab5c0e3a-0988-4fcc-aaa2-2a5462e33ce3",
   "metadata": {},
   "outputs": [
    {
     "name": "stdout",
     "output_type": "stream",
     "text": [
      "Extended my_list is =  ['Hello', 'python', 'SavvyCoders', 'July', 'cohort', 'Captain_America', 5]\n"
     ]
    }
   ],
   "source": [
    "# 'EXTEND' one list with another\n",
    "my_list1 = ['Hello', 'python', 'sweet', 'Data', 'is', 'Captain_America', 5]\n",
    "my_list2 = ['python', 'SavvyCoders', 'July', 'cohort', 'Captain_America', 5]\n",
    "\n",
    "my_list1.extend(my_list2)\n",
    "print(\"Extended my_list is = \", my_list)"
   ]
  },
  {
   "cell_type": "markdown",
   "id": "9c712d13-1e52-4a2a-ac46-353f2a729afb",
   "metadata": {},
   "source": [
    "10.7 Create a new list called \"simList\" containing at least 5 elements of the same data type, either string, integer, float, or Boolean"
   ]
  },
  {
   "cell_type": "code",
   "execution_count": 30,
   "id": "fc466f8f-e3d6-4bb8-9111-ad7aff6e3a27",
   "metadata": {},
   "outputs": [
    {
     "name": "stdout",
     "output_type": "stream",
     "text": [
      "simList = [1, 2, 3, 4, 5, 6, 7, 8, 9, 10]\n"
     ]
    }
   ],
   "source": [
    "simList= [1,2,3,4,5,6,7,8,9,10]\n",
    "print('simList =',simList)"
   ]
  },
  {
   "cell_type": "markdown",
   "id": "2acb89b4-497b-4f2f-a0da-d356744b71a3",
   "metadata": {},
   "source": [
    "10.8 Sort \"simList\", and print the list"
   ]
  },
  {
   "cell_type": "code",
   "execution_count": 31,
   "id": "802c0a6f-520e-42fe-b603-5cd62969e765",
   "metadata": {},
   "outputs": [
    {
     "name": "stdout",
     "output_type": "stream",
     "text": [
      "Sorted in descending order is =  [10, 9, 8, 7, 6, 5, 4, 3, 2, 1]\n"
     ]
    }
   ],
   "source": [
    "# 'sort' a list descending\n",
    "simList= [1,2,3,4,5,6,7,8,9,10]\n",
    "simList.sort(reverse=True)\n",
    "print(\"Sorted in descending order is = \", simList)"
   ]
  },
  {
   "cell_type": "markdown",
   "id": "adc00071-1e94-417d-a6f2-3a9862295dda",
   "metadata": {},
   "source": [
    "10.9 Copy the \"simList\" list to another 3rd list"
   ]
  },
  {
   "cell_type": "code",
   "execution_count": 33,
   "id": "0ffeddc8-d12a-47a9-bc2f-176b7960c4ac",
   "metadata": {},
   "outputs": [
    {
     "name": "stdout",
     "output_type": "stream",
     "text": [
      "copy of simList is = [10, 9, 8, 7, 6, 5, 4, 3, 2, 1]\n"
     ]
    }
   ],
   "source": [
    "simList1 = simList.copy()\n",
    "print('copy of simList is =', simList1)"
   ]
  },
  {
   "cell_type": "markdown",
   "id": "50ede931-2d38-4379-9365-809a24bfbcf8",
   "metadata": {},
   "source": [
    "10.11 Add the 2nd and 3rd lists together into a 4th list"
   ]
  },
  {
   "cell_type": "code",
   "execution_count": 35,
   "id": "0254f3f5-3d63-4215-a011-43702356b223",
   "metadata": {},
   "outputs": [
    {
     "name": "stdout",
     "output_type": "stream",
     "text": [
      "[10, 9, 8, 7, 6, 5, 4, 3, 2, 1, 10, 9, 8, 7, 6, 5, 4, 3, 2, 1]\n"
     ]
    }
   ],
   "source": [
    "combinedList = simList1+simList\n",
    "print(combinedList)"
   ]
  },
  {
   "cell_type": "markdown",
   "id": "319147e4-a3f3-4281-856e-a434b23d487e",
   "metadata": {},
   "source": [
    "11. Create a tuple of about 5 elements"
   ]
  },
  {
   "cell_type": "code",
   "execution_count": 230,
   "id": "c0311c61-bdb6-4632-8260-23effc1677f7",
   "metadata": {},
   "outputs": [
    {
     "name": "stdout",
     "output_type": "stream",
     "text": [
      "my 1st tuple is = ((1, 2), (3, 4), 28, (1.2, 1.3), (4, 7))\n"
     ]
    }
   ],
   "source": [
    "my_tuple=((1,2), (3,4), 28, (1.2,1.3), (4,7))\n",
    "print('my 1st tuple is =', my_tuple)"
   ]
  },
  {
   "cell_type": "code",
   "execution_count": 231,
   "id": "0cd71478-60f9-43ae-a7d3-2dcc4909a1d4",
   "metadata": {},
   "outputs": [
    {
     "name": "stdout",
     "output_type": "stream",
     "text": [
      "my second tuple is= ((1, 2), (3, 4), 28, (1.2, 1.3), (4, 7), (1, 2), (3, 4), 28, (1.2, 1.3), (4, 7), (1, 2), (3, 4), 28, (1.2, 1.3), (4, 7))\n"
     ]
    }
   ],
   "source": [
    "# Multiply your tuple by 3 and save it to a new 2nd tuple\n",
    "my_tuple2= my_tuple*3\n",
    "print('my second tuple is=', my_tuple2)"
   ]
  },
  {
   "cell_type": "markdown",
   "id": "29e0abe0-3158-4f9d-b7f7-97c696ed336f",
   "metadata": {},
   "source": [
    "\n",
    "11.2 Access and print the 12th element from the 2nd tuple"
   ]
  },
  {
   "cell_type": "code",
   "execution_count": 232,
   "id": "39dcd21f-a0b2-44d0-b234-7a1835000a28",
   "metadata": {},
   "outputs": [
    {
     "name": "stdout",
     "output_type": "stream",
     "text": [
      "The eight element is = 28\n"
     ]
    }
   ],
   "source": [
    "element8 = my_tuple2[7]\n",
    "print('The eight element is =', element8)"
   ]
  },
  {
   "cell_type": "code",
   "execution_count": 235,
   "id": "a72ab41a-b5c5-43b0-a2fe-62435847fd57",
   "metadata": {},
   "outputs": [
    {
     "ename": "TypeError",
     "evalue": "'<' not supported between instances of 'int' and 'tuple'",
     "output_type": "error",
     "traceback": [
      "\u001b[1;31m---------------------------------------------------------------------------\u001b[0m",
      "\u001b[1;31mTypeError\u001b[0m                                 Traceback (most recent call last)",
      "Cell \u001b[1;32mIn[235], line 2\u001b[0m\n\u001b[0;32m      1\u001b[0m \u001b[38;5;66;03m# Sorting the 2nd tuple\u001b[39;00m\n\u001b[1;32m----> 2\u001b[0m Tuple_sorted \u001b[38;5;241m=\u001b[39m \u001b[38;5;28;43msorted\u001b[39;49m\u001b[43m(\u001b[49m\u001b[43mmy_tuple\u001b[49m\u001b[43m)\u001b[49m\n\u001b[0;32m      3\u001b[0m \u001b[38;5;28mprint\u001b[39m(Tuple_sorted)\n",
      "\u001b[1;31mTypeError\u001b[0m: '<' not supported between instances of 'int' and 'tuple'"
     ]
    }
   ],
   "source": [
    "# Sorting the 2nd tuple\n",
    "Tuple_sorted = sorted(my_tuple)\n",
    "print(Tuple_sorted)"
   ]
  },
  {
   "cell_type": "markdown",
   "id": "0c9604f0-d7ba-47a0-a8a8-9b6233d72302",
   "metadata": {},
   "source": [
    "11.3 Copy 4 specific elements from your 2nd tuple to a new 3nd tuple"
   ]
  },
  {
   "cell_type": "code",
   "execution_count": 234,
   "id": "02dcdd26-9274-4003-9fed-ba9b805cb203",
   "metadata": {},
   "outputs": [
    {
     "name": "stdout",
     "output_type": "stream",
     "text": [
      "(28, (1.2, 1.3), (4, 7), (1, 2), (3, 4), 28, (1.2, 1.3))\n"
     ]
    }
   ],
   "source": [
    "my_tuple3 = my_tuple2[2:9]\n",
    "print(my_tuple3)"
   ]
  },
  {
   "cell_type": "code",
   "execution_count": null,
   "id": "d10a9774-6c22-4fda-8665-c16de1ec0c61",
   "metadata": {},
   "outputs": [],
   "source": []
  },
  {
   "cell_type": "code",
   "execution_count": null,
   "id": "12d1088f-b645-48c0-99ab-c87a235c23a5",
   "metadata": {},
   "outputs": [],
   "source": []
  },
  {
   "cell_type": "code",
   "execution_count": 165,
   "id": "9d515b46-dcc1-4462-a556-2e2c22a62faa",
   "metadata": {},
   "outputs": [
    {
     "name": "stdout",
     "output_type": "stream",
     "text": [
      "my first set is = {1, 2, 3}\n"
     ]
    }
   ],
   "source": [
    "# Create a set of about 3 elements\n",
    "Set1={1,3,2}\n",
    "print('my first set is =', Set1)"
   ]
  },
  {
   "cell_type": "code",
   "execution_count": 166,
   "id": "bfc0184f-90fa-43c9-8636-bf90217c775d",
   "metadata": {},
   "outputs": [
    {
     "name": "stdout",
     "output_type": "stream",
     "text": [
      "my updated set is= {1, 2, 3, 'Grapes'}\n"
     ]
    }
   ],
   "source": [
    "# Add a list of fruits to the above set and print the result\n",
    "Set1.add('Grapes')\n",
    "print('my updated set is=', Set1)"
   ]
  },
  {
   "cell_type": "code",
   "execution_count": 167,
   "id": "f5c55881-ce14-42a8-8979-cace5dd3ec2f",
   "metadata": {},
   "outputs": [
    {
     "name": "stdout",
     "output_type": "stream",
     "text": [
      "my new set is= {1, 2, 3, 'Grapes', 'Volvo'}\n"
     ]
    }
   ],
   "source": [
    "# Add a car element to your set\n",
    "Set1.add('Volvo')\n",
    "print('my new set is=',Set1)"
   ]
  },
  {
   "cell_type": "code",
   "execution_count": 168,
   "id": "e4e0837b-d3c7-4522-a1f2-f4bcc0a4348b",
   "metadata": {},
   "outputs": [
    {
     "name": "stdout",
     "output_type": "stream",
     "text": [
      "my odd set is = {'covid-19', 'Boston', 'Lays'}\n"
     ]
    }
   ],
   "source": [
    "# Create a 2nd set with a few odd items\n",
    "Set2= {'Boston', 'Lays', 'covid-19'}\n",
    "print('my odd set is =', Set2)"
   ]
  },
  {
   "cell_type": "code",
   "execution_count": 169,
   "id": "8bd58c5d-b458-425b-b059-96b6e49db0a0",
   "metadata": {},
   "outputs": [
    {
     "name": "stdout",
     "output_type": "stream",
     "text": [
      "my combined sets is = {1, 2, 3, 'Volvo', 'Grapes', 'Lays', 'covid-19', 'Boston'}\n"
     ]
    }
   ],
   "source": [
    "# Save the union of 1st set and 2nd set to a 3rd set\n",
    "Set3 = Set1.union(Set2)\n",
    "print('my combined sets is =', Set3)"
   ]
  },
  {
   "cell_type": "code",
   "execution_count": 170,
   "id": "a427ac1f-a3e2-4ca0-99b5-15679ef31ee7",
   "metadata": {},
   "outputs": [
    {
     "name": "stdout",
     "output_type": "stream",
     "text": [
      "{'Boston', 'Lays'}\n"
     ]
    }
   ],
   "source": [
    "# Pop an element from the 2nd set, and print the remainder of the set\n",
    "Set2i= Set2.pop()\n",
    "print(Set2)"
   ]
  },
  {
   "cell_type": "code",
   "execution_count": 171,
   "id": "b5035147-d06f-47a0-be56-daf55b25205e",
   "metadata": {},
   "outputs": [
    {
     "name": "stdout",
     "output_type": "stream",
     "text": [
      "cleared set is = None\n"
     ]
    }
   ],
   "source": [
    "# Clear the 1st set and print the result\n",
    "Set1i= Set1.clear()\n",
    "print(\"cleared set is =\", Set1i)"
   ]
  },
  {
   "cell_type": "code",
   "execution_count": 172,
   "id": "8ff34b91-71e7-4b41-8ae1-09951d93bd89",
   "metadata": {},
   "outputs": [],
   "source": [
    "# Discard an element, and remove another element from the 3rd set\n",
    "Set3.remove('Volvo')"
   ]
  },
  {
   "cell_type": "code",
   "execution_count": 173,
   "id": "fbc4ba95-5c73-49eb-9880-80dbf4a5ab87",
   "metadata": {},
   "outputs": [
    {
     "name": "stdout",
     "output_type": "stream",
     "text": [
      "{1, 2, 3, 'Grapes', 'Lays', 'covid-19', 'Boston'}\n"
     ]
    }
   ],
   "source": [
    "# Print the remainder of the 3rd set\n",
    "print(Set3)"
   ]
  },
  {
   "cell_type": "code",
   "execution_count": null,
   "id": "d8251027-0296-4d0d-9473-323c37709b63",
   "metadata": {},
   "outputs": [],
   "source": []
  },
  {
   "cell_type": "code",
   "execution_count": 188,
   "id": "85f39918-223b-422b-bf21-cfc5d0fd2ce0",
   "metadata": {},
   "outputs": [
    {
     "name": "stdout",
     "output_type": "stream",
     "text": [
      "my first dictionary is = {'Name': 'Kwaku', 'Car': 'Benz', 'Cohort': 'SavvyCoders', 'Food': 'Jollof', 'Soda': 'Fanta'}\n"
     ]
    }
   ],
   "source": [
    "# Create a dictionary with at least 5 values of different data types\n",
    "my_Dict={'Name':'Kwaku', 'Car':'Benz', 'Cohort':'SavvyCoders', 'Food':'Jollof', 'Soda':'Fanta'}\n",
    "print('my first dictionary is =', my_Dict)"
   ]
  },
  {
   "cell_type": "code",
   "execution_count": 189,
   "id": "2241a82a-bf84-47e2-8473-22fff886e198",
   "metadata": {},
   "outputs": [
    {
     "name": "stdout",
     "output_type": "stream",
     "text": [
      "SavvyCoders\n"
     ]
    }
   ],
   "source": [
    "# Print out 1 value\n",
    "print(my_Dict.get('Cohort'))"
   ]
  },
  {
   "cell_type": "code",
   "execution_count": 190,
   "id": "f7c9be27-6b90-4778-b670-78199f26b499",
   "metadata": {},
   "outputs": [
    {
     "name": "stdout",
     "output_type": "stream",
     "text": [
      "my updated dictionary is = {'Name': 'Sylvester', 'Car': 'Benz', 'Cohort': 'SavvyCoders', 'Food': 'Jollof', 'Soda': 'Fanta'}\n"
     ]
    }
   ],
   "source": [
    "# Replace any one value in your dictionary with your name\n",
    "my_Dict['Name']='Sylvester'\n",
    "print('my updated dictionary is =', my_Dict)"
   ]
  },
  {
   "cell_type": "code",
   "execution_count": 191,
   "id": "350bbe7d-e7f7-4c2e-bfbf-e6069f5a8081",
   "metadata": {},
   "outputs": [
    {
     "name": "stdout",
     "output_type": "stream",
     "text": [
      "my updated dictionary with my fav clor is = {'Name': 'Sylvester', 'Car': 'Benz', 'Cohort': 'SavvyCoders', 'Food': 'Jollof', 'Soda': 'Fanta', 'color': 'Blue'}\n"
     ]
    }
   ],
   "source": [
    "# Add your favorite color to the dictionary\n",
    "my_Dict['color'] = 'Blue'\n",
    "print('my updated dictionary with my fav clor is =', my_Dict)\n"
   ]
  },
  {
   "cell_type": "code",
   "execution_count": 194,
   "id": "01d2e06a-143b-41e4-ab6d-50ef317380f3",
   "metadata": {},
   "outputs": [
    {
     "name": "stdout",
     "output_type": "stream",
     "text": [
      "My updated dictionary is = {'Name': 'Sylvester', 'Car': 'Benz', 'Cohort': 'SavvyCoders', 'Food': 'Jollof', 'Soda': 'Fanta', 'color': 'Blue', 'list': [1, 2, 3, 6]}\n"
     ]
    }
   ],
   "source": [
    "#Add a list, tuple or set to your dictionary\n",
    "my_Dict['list']=[1,2,3,6]\n",
    "print('My updated dictionary is =', my_Dict)"
   ]
  },
  {
   "cell_type": "code",
   "execution_count": 195,
   "id": "0ac23f86-8f91-4600-8783-76f495be2ee6",
   "metadata": {},
   "outputs": [
    {
     "name": "stdout",
     "output_type": "stream",
     "text": [
      "only my keys is = dict_keys(['Name', 'Car', 'Cohort', 'Food', 'Soda', 'color', 'list'])\n"
     ]
    }
   ],
   "source": [
    "#Print a list of the dictionary keys\n",
    "print('only my keys is =', my_Dict.keys())"
   ]
  },
  {
   "cell_type": "code",
   "execution_count": 197,
   "id": "f27c7c45-61a7-4cb3-aed7-312406f6e6db",
   "metadata": {},
   "outputs": [
    {
     "name": "stdout",
     "output_type": "stream",
     "text": [
      "only my dictionary values is = dict_values(['Sylvester', 'Benz', 'SavvyCoders', 'Jollof', 'Fanta', 'Blue', [1, 2, 3, 6]])\n"
     ]
    }
   ],
   "source": [
    "#Print a list of the dictionary values\n",
    "print('only my dictionary values is =', my_Dict.values())"
   ]
  },
  {
   "cell_type": "code",
   "execution_count": 208,
   "id": "1e59b198-2146-49c5-bb60-2508c8465a38",
   "metadata": {},
   "outputs": [
    {
     "name": "stdout",
     "output_type": "stream",
     "text": [
      "A copy of my dictionary is = {'Name': 'Sylvester', 'Car': 'Benz', 'Cohort': 'SavvyCoders', 'Food': 'Jollof', 'Soda': 'Fanta', 'color': 'Blue', 'list': [1, 2, 3, 6]}\n"
     ]
    }
   ],
   "source": [
    "#Copy your 1st dictionary into a 2nd dictionary\n",
    "my_Dict2= my_Dict.copy()\n",
    "print('A copy of my dictionary is =', my_Dict2)"
   ]
  },
  {
   "cell_type": "code",
   "execution_count": 209,
   "id": "5d2a3467-0d63-4673-9aea-735045bb3fb3",
   "metadata": {},
   "outputs": [
    {
     "name": "stdout",
     "output_type": "stream",
     "text": [
      "popping the last item from the dictionary is =  {'Name': 'Sylvester', 'Car': 'Benz', 'Cohort': 'SavvyCoders', 'Food': 'Jollof', 'Soda': 'Fanta', 'color': 'Blue'}\n"
     ]
    }
   ],
   "source": [
    "#Pop an item from the 2nd dictionary, and print the dictionary\n",
    "my_Dict2.popitem()\n",
    "print('popping the last item from the dictionary is = ', my_Dict2)"
   ]
  },
  {
   "cell_type": "code",
   "execution_count": 210,
   "id": "cee04499-4248-44a0-9a22-c509d93b1c9d",
   "metadata": {},
   "outputs": [
    {
     "name": "stdout",
     "output_type": "stream",
     "text": [
      "everything cleared out is = {}\n"
     ]
    }
   ],
   "source": [
    "# Remove all the elements from the 2nd dictionary and print the result\n",
    "my_Dict2.clear()\n",
    "print('everything cleared out is =', my_Dict2)"
   ]
  },
  {
   "cell_type": "code",
   "execution_count": null,
   "id": "f827899f-14f8-4bf6-ae29-93b70fad3e69",
   "metadata": {},
   "outputs": [],
   "source": []
  }
 ],
 "metadata": {
  "kernelspec": {
   "display_name": "Python 3 (ipykernel)",
   "language": "python",
   "name": "python3"
  },
  "language_info": {
   "codemirror_mode": {
    "name": "ipython",
    "version": 3
   },
   "file_extension": ".py",
   "mimetype": "text/x-python",
   "name": "python",
   "nbconvert_exporter": "python",
   "pygments_lexer": "ipython3",
   "version": "3.11.4"
  }
 },
 "nbformat": 4,
 "nbformat_minor": 5
}
