{
 "cells": [
  {
   "cell_type": "code",
   "execution_count": 4,
   "id": "d00e11d5-1f98-4e87-91a9-30c394744113",
   "metadata": {},
   "outputs": [
    {
     "name": "stdout",
     "output_type": "stream",
     "text": [
      "1\n",
      "2\n",
      "3\n",
      "4\n",
      "5\n",
      "6\n",
      "7\n",
      "8\n",
      "9\n",
      "10\n"
     ]
    }
   ],
   "source": [
    "## 1. Using a for loop write a block of Python code so that your output looks like:\n",
    "for x in range(1,11):\n",
    "    print(x)"
   ]
  },
  {
   "cell_type": "markdown",
   "id": "de908d78-0cdd-41ac-a13c-54c80241c4be",
   "metadata": {},
   "source": [
    "2. Using a while loop, try getting the same results"
   ]
  },
  {
   "cell_type": "code",
   "execution_count": null,
   "id": "844aae27-27df-4bd5-8051-fb8936fa8a2d",
   "metadata": {},
   "outputs": [],
   "source": [
    "\n",
    "y=1\n",
    "while "
   ]
  },
  {
   "cell_type": "code",
   "execution_count": null,
   "id": "00297d65-b7fd-44dd-83b8-4e975ea97b84",
   "metadata": {},
   "outputs": [],
   "source": []
  },
  {
   "cell_type": "markdown",
   "id": "3f691181-c514-406d-9e99-5f428f4a1c36",
   "metadata": {},
   "source": [
    "3. Using a for statement and a nested if statement, create a block of code that shows the numbers that are divisible by 4. For this use the range from 1-100"
   ]
  },
  {
   "cell_type": "code",
   "execution_count": 3,
   "id": "9379a7af-8b5c-4d7f-b08b-4816b13e87fd",
   "metadata": {},
   "outputs": [
    {
     "name": "stdout",
     "output_type": "stream",
     "text": [
      "0\n",
      "4\n",
      "8\n",
      "12\n",
      "16\n",
      "20\n",
      "24\n",
      "28\n",
      "32\n",
      "36\n",
      "40\n",
      "44\n",
      "48\n",
      "52\n",
      "56\n",
      "60\n",
      "64\n",
      "68\n",
      "72\n",
      "76\n",
      "80\n",
      "84\n",
      "88\n",
      "92\n",
      "96\n"
     ]
    }
   ],
   "source": [
    "for i in range(0, 100):\n",
    "    if i % 4 == 0:\n",
    "        print(i)"
   ]
  },
  {
   "cell_type": "code",
   "execution_count": null,
   "id": "989cdb11-2aaa-4f0a-918f-9a880264ecbd",
   "metadata": {},
   "outputs": [],
   "source": []
  },
  {
   "cell_type": "markdown",
   "id": "b3891983-2729-434e-9c1d-495b9b2ed2c8",
   "metadata": {},
   "source": [
    "4. Using the string \"Python is pretty awesome. I can't wait to LEARN more\", print each vowel by using a for and nested if statement"
   ]
  },
  {
   "cell_type": "code",
   "execution_count": 6,
   "id": "17f35b7d-468e-4236-be3f-38ed968d00eb",
   "metadata": {},
   "outputs": [
    {
     "name": "stdout",
     "output_type": "stream",
     "text": [
      "o\n",
      "i\n",
      "e\n",
      "a\n",
      "e\n",
      "o\n",
      "e\n",
      "I\n",
      "a\n",
      "a\n",
      "i\n",
      "o\n",
      "E\n",
      "A\n",
      "o\n",
      "e\n"
     ]
    }
   ],
   "source": [
    "wordswordswords = \"Python is pretty awesome. I can't wait to LEARN more\"\n",
    "\n",
    "for i in wordswordswords:\n",
    "    if i in \"aeiouAEIOU\":\n",
    "        print(i)"
   ]
  },
  {
   "cell_type": "markdown",
   "id": "0b627ee8-a9e6-4b99-92bc-a84f8a4ee997",
   "metadata": {},
   "source": [
    "5.  using the following, print out all combinations of cars and colors"
   ]
  },
  {
   "cell_type": "code",
   "execution_count": 13,
   "id": "b014b0a6-f0ff-4d1a-a210-c8cbb63bada8",
   "metadata": {},
   "outputs": [],
   "source": [
    "cars = ['Corvette', 'Camaro', 'Mustang', 'Viper', 'Charger']\n",
    "colors = ['Ruby Red', 'Python Green', 'Java Brown', 'C++ Yellow', 'Full Stack Rainbow','Savvy Coders Blue']"
   ]
  },
  {
   "cell_type": "code",
   "execution_count": 12,
   "id": "1c6e0b22-5a66-41ae-93ef-6061e7620bf3",
   "metadata": {},
   "outputs": [
    {
     "name": "stdout",
     "output_type": "stream",
     "text": [
      "Ruby Red Corvette\n",
      "Python Green Corvette\n",
      "Java Brown Corvette\n",
      "C++ Yellow Corvette\n",
      "Full Stack Rainbow Corvette\n",
      "Savvy Coders Blue Corvette\n",
      "Ruby Red Camaro\n",
      "Python Green Camaro\n",
      "Java Brown Camaro\n",
      "C++ Yellow Camaro\n",
      "Full Stack Rainbow Camaro\n",
      "Savvy Coders Blue Camaro\n",
      "Ruby Red Mustang\n",
      "Python Green Mustang\n",
      "Java Brown Mustang\n",
      "C++ Yellow Mustang\n",
      "Full Stack Rainbow Mustang\n",
      "Savvy Coders Blue Mustang\n",
      "Ruby Red Viper\n",
      "Python Green Viper\n",
      "Java Brown Viper\n",
      "C++ Yellow Viper\n",
      "Full Stack Rainbow Viper\n",
      "Savvy Coders Blue Viper\n",
      "Ruby Red Charger\n",
      "Python Green Charger\n",
      "Java Brown Charger\n",
      "C++ Yellow Charger\n",
      "Full Stack Rainbow Charger\n",
      "Savvy Coders Blue Charger\n",
      "Ruby Red Corvette\n",
      "Ruby Red Camaro\n",
      "Ruby Red Mustang\n",
      "Ruby Red Viper\n",
      "Ruby Red Charger\n",
      "Python Green Corvette\n",
      "Python Green Camaro\n",
      "Python Green Mustang\n",
      "Python Green Viper\n",
      "Python Green Charger\n",
      "Java Brown Corvette\n",
      "Java Brown Camaro\n",
      "Java Brown Mustang\n",
      "Java Brown Viper\n",
      "Java Brown Charger\n",
      "C++ Yellow Corvette\n",
      "C++ Yellow Camaro\n",
      "C++ Yellow Mustang\n",
      "C++ Yellow Viper\n",
      "C++ Yellow Charger\n",
      "Full Stack Rainbow Corvette\n",
      "Full Stack Rainbow Camaro\n",
      "Full Stack Rainbow Mustang\n",
      "Full Stack Rainbow Viper\n",
      "Full Stack Rainbow Charger\n",
      "Savvy Coders Blue Corvette\n",
      "Savvy Coders Blue Camaro\n",
      "Savvy Coders Blue Mustang\n",
      "Savvy Coders Blue Viper\n",
      "Savvy Coders Blue Charger\n"
     ]
    }
   ],
   "source": [
    "for car in cars: \n",
    "    for color in colors: \n",
    "        print(color, car)\n",
    "cars = ['Corvette', 'Camaro', 'Mustang', 'Viper', 'Charger']\n",
    "colors = ['Ruby Red', 'Python Green', 'Java Brown', 'C++ Yellow', 'Full Stack Rainbow','Savvy Coders Blue']\n",
    "\n",
    "for color in colors: \n",
    "    for car in cars: \n",
    "        print(color, car)"
   ]
  },
  {
   "cell_type": "markdown",
   "id": "ca442b9f-7e48-4faa-bd26-66c58e507e91",
   "metadata": {},
   "source": [
    "6. What is the first step in using a module?"
   ]
  },
  {
   "cell_type": "markdown",
   "id": "efbb4608-ff7d-4f94-be8e-e0b81b4f0c7d",
   "metadata": {},
   "source": [
    "*Is to import the module*"
   ]
  },
  {
   "cell_type": "code",
   "execution_count": null,
   "id": "d08868f8-f396-4e7e-b04a-dde0e50c9788",
   "metadata": {},
   "outputs": [],
   "source": []
  }
 ],
 "metadata": {
  "kernelspec": {
   "display_name": "Python 3 (ipykernel)",
   "language": "python",
   "name": "python3"
  },
  "language_info": {
   "codemirror_mode": {
    "name": "ipython",
    "version": 3
   },
   "file_extension": ".py",
   "mimetype": "text/x-python",
   "name": "python",
   "nbconvert_exporter": "python",
   "pygments_lexer": "ipython3",
   "version": "3.11.4"
  }
 },
 "nbformat": 4,
 "nbformat_minor": 5
}
