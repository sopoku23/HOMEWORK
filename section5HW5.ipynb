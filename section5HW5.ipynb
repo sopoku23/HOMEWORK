{
 "cells": [
  {
   "cell_type": "markdown",
   "id": "265dec3e-3797-469b-9a84-e0f04e2d8c04",
   "metadata": {},
   "source": [
    "### Use markdown formatting for the following questions (e.g., bold lettering, bullet points, different font sizes, etc.):\n"
   ]
  },
  {
   "cell_type": "markdown",
   "id": "3ddd3d67-9499-4c26-9b8b-dbe9e05a98bd",
   "metadata": {},
   "source": [
    "1. What does Pandas stand for?"
   ]
  },
  {
   "cell_type": "markdown",
   "id": "0aa788b2-03b5-4a16-a2a5-dcbbb3a5cc04",
   "metadata": {},
   "source": [
    "Pandas stands for\n",
    "* Panel Data\n",
    "* Python Data Analysis"
   ]
  },
  {
   "cell_type": "markdown",
   "id": "2d3a6d47-fbe2-42f3-b7ad-9bdeb07b97c2",
   "metadata": {},
   "source": [
    "2. What are the 2 collections used in Pandas?\n",
    "   * Series\n",
    "   * DataFrame"
   ]
  },
  {
   "cell_type": "markdown",
   "id": "5255bfac-c47c-47b9-818e-196a79a665f2",
   "metadata": {},
   "source": [
    "3.  Name 4 things Pandas can do for us.\n",
    "   * load\n",
    "   * prepare\n",
    "   * manipulate\n",
    "   * analyselyze"
   ]
  },
  {
   "cell_type": "markdown",
   "id": "c4469a7a-55b0-4aca-af9f-cb29f3cd3ea2",
   "metadata": {},
   "source": [
    "4. To permanently sort a DataFrame, which keyword should one use with the df.sort() method?\n",
    "   \n",
    "   Inplace is true"
   ]
  },
  {
   "cell_type": "markdown",
   "id": "adbe782c-490a-4d78-b3f9-fa3c1c8d8a0f",
   "metadata": {},
   "source": [
    "5. What is a CSV?\n",
    "\n",
    "   comma separated values"
   ]
  },
  {
   "cell_type": "markdown",
   "id": "a0f6269e-ebe2-4f75-b271-da5ae1fd3a10",
   "metadata": {},
   "source": [
    "6. When cleaning data what values do we not like in our data?\n",
    "  * Duplicate values\n",
    "  * Null values"
   ]
  },
  {
   "cell_type": "markdown",
   "id": "123068af-23cd-42c5-a5b8-4b4ce61092ae",
   "metadata": {},
   "source": [
    "### Please Complete this Coding Exercise:\n"
   ]
  },
  {
   "cell_type": "markdown",
   "id": "348374e5-cf04-4377-b872-348819f8ffb3",
   "metadata": {},
   "source": [
    "7. Import NumPy, use one of the NumPy methods and create an array with a shape of (2, 3, 2). You can use the reshape method -- .reshape()\n"
   ]
  },
  {
   "cell_type": "code",
   "execution_count": 81,
   "id": "45079037-025b-4963-86f2-6a1e50cbe77e",
   "metadata": {},
   "outputs": [
    {
     "data": {
      "text/plain": [
       "array([[[ 0,  1],\n",
       "        [ 2,  3],\n",
       "        [ 4,  5]],\n",
       "\n",
       "       [[ 6,  7],\n",
       "        [ 8,  9],\n",
       "        [10, 11]]])"
      ]
     },
     "execution_count": 81,
     "metadata": {},
     "output_type": "execute_result"
    }
   ],
   "source": [
    "import numpy as np\n",
    "import pandas as pd\n",
    "my_firstArray= np.arange(12).reshape(2, 3, 2)\n",
    "my_firstArray"
   ]
  },
  {
   "cell_type": "markdown",
   "id": "e22c2e53-60ac-4553-8c82-2314434b5029",
   "metadata": {},
   "source": [
    "8. Use NumPy .linspace() to create an array with 6 linearly spaced values between 0 and 20\n"
   ]
  },
  {
   "cell_type": "code",
   "execution_count": 82,
   "id": "df604351-9a86-43b6-ac58-b3b2277f99b3",
   "metadata": {},
   "outputs": [
    {
     "name": "stdout",
     "output_type": "stream",
     "text": [
      "my array is = [ 0.  4.  8. 12. 16. 20.]\n"
     ]
    }
   ],
   "source": [
    "Array = np.linspace(0, 20, num=6)\n",
    "print(\"my array is =\", Array)"
   ]
  },
  {
   "cell_type": "markdown",
   "id": "7976d38c-f9c5-4091-9679-daf1a9968b75",
   "metadata": {},
   "source": [
    "9. Make a Deep Copy of the above array\n"
   ]
  },
  {
   "cell_type": "code",
   "execution_count": 83,
   "id": "7b425238-ee23-4faa-a787-0221d64450be",
   "metadata": {},
   "outputs": [
    {
     "name": "stdout",
     "output_type": "stream",
     "text": [
      "The  deep copy Array is [ 0.  4.  8. 12. 16. 20.]\n"
     ]
    }
   ],
   "source": [
    "import copy\n",
    "Array1 = copy.deepcopy(Array)\n",
    "\n",
    "print(\"The  deep copy Array is\", Array1)"
   ]
  },
  {
   "cell_type": "markdown",
   "id": "423f1adb-4fd3-4abd-beef-4720cb680520",
   "metadata": {},
   "source": [
    "10. Concatenate these 3 arrays into a new array named 'newArray'..."
   ]
  },
  {
   "cell_type": "code",
   "execution_count": 84,
   "id": "2d892695-01fc-41ee-92e8-180b66fdb1a2",
   "metadata": {},
   "outputs": [
    {
     "name": "stdout",
     "output_type": "stream",
     "text": [
      "[[25 16]\n",
      " [11  2]\n",
      " [13  4]\n",
      " [ 7 81]\n",
      " [ 5  6]\n",
      " [11 12]]\n"
     ]
    }
   ],
   "source": [
    "array1= ([[25, 16]])\n",
    "array2= ([[11, 2], [13, 4]])\n",
    "array3= ([[7, 81], [5, 6], [11, 12]])\n",
    "newArray = np.concatenate((array1, array2, array3), axis=0)\n",
    "print(newArray)"
   ]
  },
  {
   "cell_type": "markdown",
   "id": "168e7c2f-3d0e-43c7-ad94-bdc53012225a",
   "metadata": {},
   "source": [
    "11. Sort 'newArray' in order into 'sortedArray'\n",
    "\n"
   ]
  },
  {
   "cell_type": "code",
   "execution_count": 85,
   "id": "a2d33414-c54d-47a2-9aa0-9b5e14748577",
   "metadata": {},
   "outputs": [
    {
     "name": "stdout",
     "output_type": "stream",
     "text": [
      "[[16 25]\n",
      " [ 2 11]\n",
      " [ 4 13]\n",
      " [ 7 81]\n",
      " [ 5  6]\n",
      " [11 12]]\n"
     ]
    }
   ],
   "source": [
    "print(np.sort(newArray))"
   ]
  },
  {
   "cell_type": "markdown",
   "id": "4fff3206-8ea6-400d-a5b6-10a64d3872c7",
   "metadata": {},
   "source": [
    "12. Unpack the array tuples from the above 'reshapedArray' into 4 well named variables. Print the 4 variables.\n"
   ]
  },
  {
   "cell_type": "code",
   "execution_count": 86,
   "id": "dd2e7aa5-2dab-4ef3-944d-9d236c3f79e7",
   "metadata": {},
   "outputs": [
    {
     "name": "stdout",
     "output_type": "stream",
     "text": [
      "m =  [25 16]\n",
      "n =  [11  2]\n",
      "p =  [13  4]\n",
      "q =  [ 7 81]\n",
      "r =  [5 6]\n",
      "s =  [11 12]\n"
     ]
    }
   ],
   "source": [
    "m,n,p,q,r,s = newArray\n",
    "print(\"m = \", m)\n",
    "print(\"n = \", n)\n",
    "print(\"p = \", p)\n",
    "print(\"q = \", q)\n",
    "print(\"r = \", r)\n",
    "print(\"s = \", s)"
   ]
  },
  {
   "cell_type": "markdown",
   "id": "0d11dfd5-ae00-49a1-887f-7c2fb5fce442",
   "metadata": {},
   "source": [
    "\n",
    "13. Combined and sort the following arrays into one called 'comboArray' ..."
   ]
  },
  {
   "cell_type": "code",
   "execution_count": 87,
   "id": "bf688baa-e51e-4a2f-92b4-7593289fe317",
   "metadata": {},
   "outputs": [
    {
     "name": "stdout",
     "output_type": "stream",
     "text": [
      "combined array is = [10 11 12 13 14 15 16 17 20 21 22 23 24 25 26 27  0  1  2  3  4  5  6  7]\n",
      "sorted comboArray in ascending order is= [ 0  1  2  3  4  5  6  7 10 11 12 13 14 15 16 17 20 21 22 23 24 25 26 27]\n"
     ]
    }
   ],
   "source": [
    "one = np.array([10, 11, 12, 13, 14, 15, 16, 17])\n",
    "two = np.array([20, 21, 22, 23, 24, 25, 26, 27])\n",
    "three = np.array ([ 0, 1, 2, 3, 4, 5, 6, 7])\n",
    "comboArray = np.concatenate((one, two,three),axis=0)\n",
    "print('combined array is =', comboArray)\n",
    "sorted_comboArray = np.sort(comboArray)\n",
    "print('sorted comboArray in ascending order is=',sorted_comboArray)"
   ]
  },
  {
   "cell_type": "markdown",
   "id": "2f94df47-82c1-4e7b-a7b6-9219cd532506",
   "metadata": {},
   "source": [
    "14. Take 'comboArray' and perform the following slicing activities:\n"
   ]
  },
  {
   "cell_type": "code",
   "execution_count": 88,
   "id": "1fd8fa19-d804-4c1b-b759-61019c160fbd",
   "metadata": {},
   "outputs": [
    {
     "name": "stdout",
     "output_type": "stream",
     "text": [
      "2nd element is= 1\n"
     ]
    }
   ],
   "source": [
    "# print sec1 - the 2nd element\n",
    "second_element=sorted_comboArray[1]\n",
    "print('2nd element is=',second_element)"
   ]
  },
  {
   "cell_type": "code",
   "execution_count": 89,
   "id": "80edf07c-975f-4414-8671-9d15d8d77fa1",
   "metadata": {},
   "outputs": [
    {
     "name": "stdout",
     "output_type": "stream",
     "text": [
      "all element from 3 to the last = [ 2  3  4  5  6  7 10 11 12 13 14 15 16 17 20 21 22 23 24 25 26 27]\n"
     ]
    }
   ],
   "source": [
    "#print sec2 - all elements from the 3rd element to the last\n",
    "element3_last=sorted_comboArray[2:]\n",
    "print('all element from 3 to the last =',element3_last)"
   ]
  },
  {
   "cell_type": "code",
   "execution_count": 90,
   "id": "f8f3d211-bb61-426e-b2cc-5115a7d1f99e",
   "metadata": {},
   "outputs": [
    {
     "name": "stdout",
     "output_type": "stream",
     "text": [
      "all element from 4 to the 14th = [ 3  4  5  6  7 10 11 12 13 14 15 16]\n"
     ]
    }
   ],
   "source": [
    "#print sec3 - all elements from the 4th to the 14th elements\n",
    "element4_14=sorted_comboArray[3:15]\n",
    "print('all element from 4 to the 14th =',element4_14)"
   ]
  },
  {
   "cell_type": "code",
   "execution_count": 91,
   "id": "424639b0-9743-44c4-8bf9-080bff3cde80",
   "metadata": {},
   "outputs": [
    {
     "name": "stdout",
     "output_type": "stream",
     "text": [
      "the last 6 = [22 23 24 25 26 27]\n"
     ]
    }
   ],
   "source": [
    "#print sec4 - the last 6 elements\n",
    "last_6=sorted_comboArray[18:]\n",
    "print('the last 6 =',last_6)"
   ]
  },
  {
   "cell_type": "code",
   "execution_count": 92,
   "id": "30670dd5-5685-45d5-89f7-71aba4e509a3",
   "metadata": {},
   "outputs": [
    {
     "name": "stdout",
     "output_type": "stream",
     "text": [
      "all element from 0 to 15 inclusive = [ 0  1  2  3  4  5  6  7 10 11 12 13 14 15]\n"
     ]
    }
   ],
   "source": [
    "#print sec5 - all element from #0 up to and including #15, using the negative number method, i.e. taking a section from the end.\n",
    "zero_to_15 = sorted_comboArray[0:14]\n",
    "print('all element from 0 to 15 inclusive =',zero_to_15)"
   ]
  },
  {
   "cell_type": "code",
   "execution_count": 93,
   "id": "a6c796be-adfb-4ab1-b1c9-74c1311ee331",
   "metadata": {},
   "outputs": [
    {
     "name": "stdout",
     "output_type": "stream",
     "text": [
      "even numbers = [ 0  2  4  6 10 12 14 16 20 22 24 26]\n",
      "even numbers from 20 = [20 22 24 26]\n"
     ]
    }
   ],
   "source": [
    "#print sec6 - from #20 every even element to the end\n",
    "even_numbers = sorted_comboArray[sorted_comboArray % 2 == 0]\n",
    "print('even numbers =',even_numbers)\n",
    "# printing the even element from 20 to the end\n",
    "print('even numbers from 20 =', even_numbers[8:])"
   ]
  },
  {
   "cell_type": "code",
   "execution_count": 94,
   "id": "99275bdd-1c14-4beb-aee3-b2c4aaf1a20e",
   "metadata": {},
   "outputs": [],
   "source": [
    "#print sec7 - from the last element moving forward, every 5th element."
   ]
  },
  {
   "cell_type": "markdown",
   "id": "bbb42c4f-58e5-4c20-b6ed-8be5a8a9edaf",
   "metadata": {},
   "source": [
    "15. Using Series, create a DataFrame that looks like this:"
   ]
  },
  {
   "cell_type": "code",
   "execution_count": 95,
   "id": "634eb6f6-f80c-4f66-af74-03e71ee208d9",
   "metadata": {},
   "outputs": [
    {
     "data": {
      "text/html": [
       "<div>\n",
       "<style scoped>\n",
       "    .dataframe tbody tr th:only-of-type {\n",
       "        vertical-align: middle;\n",
       "    }\n",
       "\n",
       "    .dataframe tbody tr th {\n",
       "        vertical-align: top;\n",
       "    }\n",
       "\n",
       "    .dataframe thead th {\n",
       "        text-align: right;\n",
       "    }\n",
       "</style>\n",
       "<table border=\"1\" class=\"dataframe\">\n",
       "  <thead>\n",
       "    <tr style=\"text-align: right;\">\n",
       "      <th></th>\n",
       "      <th>Ingredients</th>\n",
       "      <th>Quantity</th>\n",
       "      <th>Unit</th>\n",
       "    </tr>\n",
       "  </thead>\n",
       "  <tbody>\n",
       "    <tr>\n",
       "      <th>0</th>\n",
       "      <td>Flour</td>\n",
       "      <td>4</td>\n",
       "      <td>cups</td>\n",
       "    </tr>\n",
       "    <tr>\n",
       "      <th>1</th>\n",
       "      <td>Milk</td>\n",
       "      <td>1</td>\n",
       "      <td>cup</td>\n",
       "    </tr>\n",
       "    <tr>\n",
       "      <th>2</th>\n",
       "      <td>Eggs</td>\n",
       "      <td>2</td>\n",
       "      <td>large</td>\n",
       "    </tr>\n",
       "    <tr>\n",
       "      <th>3</th>\n",
       "      <td>Spam</td>\n",
       "      <td>1</td>\n",
       "      <td>can</td>\n",
       "    </tr>\n",
       "  </tbody>\n",
       "</table>\n",
       "</div>"
      ],
      "text/plain": [
       "  Ingredients  Quantity   Unit\n",
       "0       Flour         4   cups\n",
       "1        Milk         1    cup\n",
       "2        Eggs         2  large\n",
       "3        Spam         1    can"
      ]
     },
     "execution_count": 95,
     "metadata": {},
     "output_type": "execute_result"
    }
   ],
   "source": [
    "my_DF = {\n",
    "    \"Ingredients\": [\"Flour\", \"Milk\", \"Eggs\", \"Spam\"],\n",
    "    \"Quantity\": [4,1,2,1],\n",
    "    \"Unit\": [\"cups\", \"cup\", \"large\", \"can\"]\n",
    "    }\n",
    "my_DataFrame = pd.DataFrame(my_DF, columns=['Ingredients','Quantity', 'Unit'])\n",
    "my_DataFrame"
   ]
  },
  {
   "cell_type": "code",
   "execution_count": 96,
   "id": "a11463da-1c7f-4c29-af48-dfd6a1540f0f",
   "metadata": {},
   "outputs": [
    {
     "data": {
      "text/html": [
       "<div>\n",
       "<style scoped>\n",
       "    .dataframe tbody tr th:only-of-type {\n",
       "        vertical-align: middle;\n",
       "    }\n",
       "\n",
       "    .dataframe tbody tr th {\n",
       "        vertical-align: top;\n",
       "    }\n",
       "\n",
       "    .dataframe thead th {\n",
       "        text-align: right;\n",
       "    }\n",
       "</style>\n",
       "<table border=\"1\" class=\"dataframe\">\n",
       "  <thead>\n",
       "    <tr style=\"text-align: right;\">\n",
       "      <th></th>\n",
       "      <th>Quantity</th>\n",
       "      <th>Unit</th>\n",
       "    </tr>\n",
       "    <tr>\n",
       "      <th>Ingredients</th>\n",
       "      <th></th>\n",
       "      <th></th>\n",
       "    </tr>\n",
       "  </thead>\n",
       "  <tbody>\n",
       "    <tr>\n",
       "      <th>Flour</th>\n",
       "      <td>4</td>\n",
       "      <td>cups</td>\n",
       "    </tr>\n",
       "    <tr>\n",
       "      <th>Milk</th>\n",
       "      <td>1</td>\n",
       "      <td>cup</td>\n",
       "    </tr>\n",
       "    <tr>\n",
       "      <th>Eggs</th>\n",
       "      <td>2</td>\n",
       "      <td>large</td>\n",
       "    </tr>\n",
       "    <tr>\n",
       "      <th>Spam</th>\n",
       "      <td>1</td>\n",
       "      <td>can</td>\n",
       "    </tr>\n",
       "  </tbody>\n",
       "</table>\n",
       "</div>"
      ],
      "text/plain": [
       "             Quantity   Unit\n",
       "Ingredients                 \n",
       "Flour               4   cups\n",
       "Milk                1    cup\n",
       "Eggs                2  large\n",
       "Spam                1    can"
      ]
     },
     "execution_count": 96,
     "metadata": {},
     "output_type": "execute_result"
    }
   ],
   "source": [
    "my_DataFrame.set_index('Ingredients')"
   ]
  },
  {
   "cell_type": "markdown",
   "id": "bbb4deb5-8b4d-49ba-af4c-635b4dca0e5c",
   "metadata": {},
   "source": [
    "16. Take this data and create a DataFrame named studentData"
   ]
  },
  {
   "cell_type": "code",
   "execution_count": 97,
   "id": "14854929-3bb5-4421-9356-c3e673ad8985",
   "metadata": {},
   "outputs": [
    {
     "data": {
      "text/html": [
       "<div>\n",
       "<style scoped>\n",
       "    .dataframe tbody tr th:only-of-type {\n",
       "        vertical-align: middle;\n",
       "    }\n",
       "\n",
       "    .dataframe tbody tr th {\n",
       "        vertical-align: top;\n",
       "    }\n",
       "\n",
       "    .dataframe thead th {\n",
       "        text-align: right;\n",
       "    }\n",
       "</style>\n",
       "<table border=\"1\" class=\"dataframe\">\n",
       "  <thead>\n",
       "    <tr style=\"text-align: right;\">\n",
       "      <th></th>\n",
       "      <th>Name</th>\n",
       "      <th>Height</th>\n",
       "      <th>Qualification</th>\n",
       "      <th>Address</th>\n",
       "      <th>Age</th>\n",
       "      <th>Pets</th>\n",
       "      <th>Sport</th>\n",
       "    </tr>\n",
       "  </thead>\n",
       "  <tbody>\n",
       "    <tr>\n",
       "      <th>0</th>\n",
       "      <td>Jai</td>\n",
       "      <td>5.1</td>\n",
       "      <td>Msc</td>\n",
       "      <td>Delhi</td>\n",
       "      <td>21</td>\n",
       "      <td>Dog</td>\n",
       "      <td>Darts</td>\n",
       "    </tr>\n",
       "    <tr>\n",
       "      <th>1</th>\n",
       "      <td>janusha</td>\n",
       "      <td>6.2</td>\n",
       "      <td>MA</td>\n",
       "      <td>Doha</td>\n",
       "      <td>23</td>\n",
       "      <td>Bunny</td>\n",
       "      <td>Basketball</td>\n",
       "    </tr>\n",
       "    <tr>\n",
       "      <th>2</th>\n",
       "      <td>Gaurav</td>\n",
       "      <td>5.1</td>\n",
       "      <td>Msc</td>\n",
       "      <td>Chennai</td>\n",
       "      <td>24</td>\n",
       "      <td>Chinchilla</td>\n",
       "      <td>PaddleBoarding</td>\n",
       "    </tr>\n",
       "    <tr>\n",
       "      <th>3</th>\n",
       "      <td>Anuj</td>\n",
       "      <td>5.2</td>\n",
       "      <td>Msc</td>\n",
       "      <td>Dakhar</td>\n",
       "      <td>21</td>\n",
       "      <td>Parrot</td>\n",
       "      <td>Cricket</td>\n",
       "    </tr>\n",
       "  </tbody>\n",
       "</table>\n",
       "</div>"
      ],
      "text/plain": [
       "      Name  Height Qualification  Address  Age        Pets           Sport\n",
       "0      Jai     5.1           Msc    Delhi   21         Dog           Darts\n",
       "1  janusha     6.2            MA     Doha   23       Bunny      Basketball\n",
       "2   Gaurav     5.1           Msc  Chennai   24  Chinchilla  PaddleBoarding\n",
       "3     Anuj     5.2           Msc   Dakhar   21      Parrot         Cricket"
      ]
     },
     "execution_count": 97,
     "metadata": {},
     "output_type": "execute_result"
    }
   ],
   "source": [
    "   my_list= {'Name': ['Jai', 'janusha', 'Gaurav', 'Anuj'],\n",
    "        'Height': [5.1, 6.2, 5.1, 5.2],\n",
    "        'Qualification': ['Msc', 'MA', 'Msc', 'Msc'],\n",
    "        'Address': ['Delhi', 'Doha', 'Chennai', 'Dakhar'],\n",
    "        'Age': [21, 23, 24, 21],\n",
    "        'Pets': ['Dog', 'Bunny', 'Chinchilla', 'Parrot'],\n",
    "        'Sport': ['Darts', 'Basketball', 'PaddleBoarding', 'Cricket']}\n",
    "studentData = pd.DataFrame(my_list, columns=['Name', 'Height',\n",
    "                                    'Qualification', 'Address','Age',\n",
    "                                     'Pets', 'Sport'])\n",
    "studentData"
   ]
  },
  {
   "cell_type": "markdown",
   "id": "f7873db9-e093-45c2-88fc-8bc80153b7d8",
   "metadata": {},
   "source": [
    "17. Add a new column to the DataFrame with the following deserts: [\"ice cream\", \"Cashew Fudge\", \"waffels\", \"Carrot Halwa\"]\n"
   ]
  },
  {
   "cell_type": "code",
   "execution_count": 98,
   "id": "fff73bdd-4bb5-4eb7-b86a-4b4399cacc7f",
   "metadata": {},
   "outputs": [
    {
     "data": {
      "text/html": [
       "<div>\n",
       "<style scoped>\n",
       "    .dataframe tbody tr th:only-of-type {\n",
       "        vertical-align: middle;\n",
       "    }\n",
       "\n",
       "    .dataframe tbody tr th {\n",
       "        vertical-align: top;\n",
       "    }\n",
       "\n",
       "    .dataframe thead th {\n",
       "        text-align: right;\n",
       "    }\n",
       "</style>\n",
       "<table border=\"1\" class=\"dataframe\">\n",
       "  <thead>\n",
       "    <tr style=\"text-align: right;\">\n",
       "      <th></th>\n",
       "      <th>Name</th>\n",
       "      <th>Height</th>\n",
       "      <th>Qualification</th>\n",
       "      <th>Address</th>\n",
       "      <th>Age</th>\n",
       "      <th>Pets</th>\n",
       "      <th>Sport</th>\n",
       "      <th>Deserts</th>\n",
       "    </tr>\n",
       "  </thead>\n",
       "  <tbody>\n",
       "    <tr>\n",
       "      <th>0</th>\n",
       "      <td>Jai</td>\n",
       "      <td>5.1</td>\n",
       "      <td>Msc</td>\n",
       "      <td>Delhi</td>\n",
       "      <td>21</td>\n",
       "      <td>Dog</td>\n",
       "      <td>Darts</td>\n",
       "      <td>ice cream</td>\n",
       "    </tr>\n",
       "    <tr>\n",
       "      <th>1</th>\n",
       "      <td>janusha</td>\n",
       "      <td>6.2</td>\n",
       "      <td>MA</td>\n",
       "      <td>Doha</td>\n",
       "      <td>23</td>\n",
       "      <td>Bunny</td>\n",
       "      <td>Basketball</td>\n",
       "      <td>Cashew Fudge</td>\n",
       "    </tr>\n",
       "    <tr>\n",
       "      <th>2</th>\n",
       "      <td>Gaurav</td>\n",
       "      <td>5.1</td>\n",
       "      <td>Msc</td>\n",
       "      <td>Chennai</td>\n",
       "      <td>24</td>\n",
       "      <td>Chinchilla</td>\n",
       "      <td>PaddleBoarding</td>\n",
       "      <td>waffels</td>\n",
       "    </tr>\n",
       "    <tr>\n",
       "      <th>3</th>\n",
       "      <td>Anuj</td>\n",
       "      <td>5.2</td>\n",
       "      <td>Msc</td>\n",
       "      <td>Dakhar</td>\n",
       "      <td>21</td>\n",
       "      <td>Parrot</td>\n",
       "      <td>Cricket</td>\n",
       "      <td>Carrot Halwa</td>\n",
       "    </tr>\n",
       "  </tbody>\n",
       "</table>\n",
       "</div>"
      ],
      "text/plain": [
       "      Name  Height Qualification  Address  Age        Pets           Sport  \\\n",
       "0      Jai     5.1           Msc    Delhi   21         Dog           Darts   \n",
       "1  janusha     6.2            MA     Doha   23       Bunny      Basketball   \n",
       "2   Gaurav     5.1           Msc  Chennai   24  Chinchilla  PaddleBoarding   \n",
       "3     Anuj     5.2           Msc   Dakhar   21      Parrot         Cricket   \n",
       "\n",
       "        Deserts  \n",
       "0     ice cream  \n",
       "1  Cashew Fudge  \n",
       "2       waffels  \n",
       "3  Carrot Halwa  "
      ]
     },
     "execution_count": 98,
     "metadata": {},
     "output_type": "execute_result"
    }
   ],
   "source": [
    "deserts= [\"ice cream\", \"Cashew Fudge\", \"waffels\", \"Carrot Halwa\"]\n",
    "studentData['Deserts']=deserts\n",
    "studentData"
   ]
  },
  {
   "cell_type": "markdown",
   "id": "9a1513e5-9ce7-4cc1-a0d6-8fc1be4f3212",
   "metadata": {},
   "source": [
    "18. Sort the 'studentData' DataFrame in Ascending order -- Sorting by column 'Name' and then \"address\"\n"
   ]
  },
  {
   "cell_type": "code",
   "execution_count": 99,
   "id": "68ed3a53-5e28-450f-9515-d938d0b5d041",
   "metadata": {},
   "outputs": [
    {
     "data": {
      "text/html": [
       "<div>\n",
       "<style scoped>\n",
       "    .dataframe tbody tr th:only-of-type {\n",
       "        vertical-align: middle;\n",
       "    }\n",
       "\n",
       "    .dataframe tbody tr th {\n",
       "        vertical-align: top;\n",
       "    }\n",
       "\n",
       "    .dataframe thead th {\n",
       "        text-align: right;\n",
       "    }\n",
       "</style>\n",
       "<table border=\"1\" class=\"dataframe\">\n",
       "  <thead>\n",
       "    <tr style=\"text-align: right;\">\n",
       "      <th></th>\n",
       "      <th>Name</th>\n",
       "      <th>Height</th>\n",
       "      <th>Qualification</th>\n",
       "      <th>Address</th>\n",
       "      <th>Age</th>\n",
       "      <th>Pets</th>\n",
       "      <th>Sport</th>\n",
       "      <th>Deserts</th>\n",
       "    </tr>\n",
       "  </thead>\n",
       "  <tbody>\n",
       "    <tr>\n",
       "      <th>3</th>\n",
       "      <td>Anuj</td>\n",
       "      <td>5.2</td>\n",
       "      <td>Msc</td>\n",
       "      <td>Dakhar</td>\n",
       "      <td>21</td>\n",
       "      <td>Parrot</td>\n",
       "      <td>Cricket</td>\n",
       "      <td>Carrot Halwa</td>\n",
       "    </tr>\n",
       "    <tr>\n",
       "      <th>2</th>\n",
       "      <td>Gaurav</td>\n",
       "      <td>5.1</td>\n",
       "      <td>Msc</td>\n",
       "      <td>Chennai</td>\n",
       "      <td>24</td>\n",
       "      <td>Chinchilla</td>\n",
       "      <td>PaddleBoarding</td>\n",
       "      <td>waffels</td>\n",
       "    </tr>\n",
       "    <tr>\n",
       "      <th>0</th>\n",
       "      <td>Jai</td>\n",
       "      <td>5.1</td>\n",
       "      <td>Msc</td>\n",
       "      <td>Delhi</td>\n",
       "      <td>21</td>\n",
       "      <td>Dog</td>\n",
       "      <td>Darts</td>\n",
       "      <td>ice cream</td>\n",
       "    </tr>\n",
       "    <tr>\n",
       "      <th>1</th>\n",
       "      <td>janusha</td>\n",
       "      <td>6.2</td>\n",
       "      <td>MA</td>\n",
       "      <td>Doha</td>\n",
       "      <td>23</td>\n",
       "      <td>Bunny</td>\n",
       "      <td>Basketball</td>\n",
       "      <td>Cashew Fudge</td>\n",
       "    </tr>\n",
       "  </tbody>\n",
       "</table>\n",
       "</div>"
      ],
      "text/plain": [
       "      Name  Height Qualification  Address  Age        Pets           Sport  \\\n",
       "3     Anuj     5.2           Msc   Dakhar   21      Parrot         Cricket   \n",
       "2   Gaurav     5.1           Msc  Chennai   24  Chinchilla  PaddleBoarding   \n",
       "0      Jai     5.1           Msc    Delhi   21         Dog           Darts   \n",
       "1  janusha     6.2            MA     Doha   23       Bunny      Basketball   \n",
       "\n",
       "        Deserts  \n",
       "3  Carrot Halwa  \n",
       "2       waffels  \n",
       "0     ice cream  \n",
       "1  Cashew Fudge  "
      ]
     },
     "execution_count": 99,
     "metadata": {},
     "output_type": "execute_result"
    }
   ],
   "source": [
    "studentData.sort_values(by = ['Name','Address'], inplace = True)\n",
    "studentData"
   ]
  },
  {
   "cell_type": "markdown",
   "id": "08f0d449-63b9-4982-8f77-6e93dc28afeb",
   "metadata": {},
   "source": [
    "\n",
    "19. Save this DataFrame here below to disc as a .CSV file with the name cows_and_goats.csv:"
   ]
  },
  {
   "cell_type": "code",
   "execution_count": 100,
   "id": "6fca1b54-bb07-4f7d-8fb5-cea94de42d90",
   "metadata": {},
   "outputs": [
    {
     "data": {
      "text/html": [
       "<div>\n",
       "<style scoped>\n",
       "    .dataframe tbody tr th:only-of-type {\n",
       "        vertical-align: middle;\n",
       "    }\n",
       "\n",
       "    .dataframe tbody tr th {\n",
       "        vertical-align: top;\n",
       "    }\n",
       "\n",
       "    .dataframe thead th {\n",
       "        text-align: right;\n",
       "    }\n",
       "</style>\n",
       "<table border=\"1\" class=\"dataframe\">\n",
       "  <thead>\n",
       "    <tr style=\"text-align: right;\">\n",
       "      <th></th>\n",
       "      <th>Name</th>\n",
       "      <th>Height</th>\n",
       "      <th>Qualification</th>\n",
       "      <th>Address</th>\n",
       "      <th>Age</th>\n",
       "      <th>Pets</th>\n",
       "      <th>Sport</th>\n",
       "      <th>Deserts</th>\n",
       "    </tr>\n",
       "  </thead>\n",
       "  <tbody>\n",
       "    <tr>\n",
       "      <th>0</th>\n",
       "      <td>Anuj</td>\n",
       "      <td>5.2</td>\n",
       "      <td>Msc</td>\n",
       "      <td>Dakhar</td>\n",
       "      <td>21</td>\n",
       "      <td>Parrot</td>\n",
       "      <td>Cricket</td>\n",
       "      <td>Carrot Halwa</td>\n",
       "    </tr>\n",
       "    <tr>\n",
       "      <th>1</th>\n",
       "      <td>Gaurav</td>\n",
       "      <td>5.1</td>\n",
       "      <td>Msc</td>\n",
       "      <td>Chennai</td>\n",
       "      <td>24</td>\n",
       "      <td>Chinchilla</td>\n",
       "      <td>PaddleBoarding</td>\n",
       "      <td>waffels</td>\n",
       "    </tr>\n",
       "    <tr>\n",
       "      <th>2</th>\n",
       "      <td>Jai</td>\n",
       "      <td>5.1</td>\n",
       "      <td>Msc</td>\n",
       "      <td>Delhi</td>\n",
       "      <td>21</td>\n",
       "      <td>Dog</td>\n",
       "      <td>Darts</td>\n",
       "      <td>ice cream</td>\n",
       "    </tr>\n",
       "    <tr>\n",
       "      <th>3</th>\n",
       "      <td>janusha</td>\n",
       "      <td>6.2</td>\n",
       "      <td>MA</td>\n",
       "      <td>Doha</td>\n",
       "      <td>23</td>\n",
       "      <td>Bunny</td>\n",
       "      <td>Basketball</td>\n",
       "      <td>Cashew Fudge</td>\n",
       "    </tr>\n",
       "  </tbody>\n",
       "</table>\n",
       "</div>"
      ],
      "text/plain": [
       "      Name  Height Qualification  Address  Age        Pets           Sport  \\\n",
       "0     Anuj     5.2           Msc   Dakhar   21      Parrot         Cricket   \n",
       "1   Gaurav     5.1           Msc  Chennai   24  Chinchilla  PaddleBoarding   \n",
       "2      Jai     5.1           Msc    Delhi   21         Dog           Darts   \n",
       "3  janusha     6.2            MA     Doha   23       Bunny      Basketball   \n",
       "\n",
       "        Deserts  \n",
       "0  Carrot Halwa  \n",
       "1       waffels  \n",
       "2     ice cream  \n",
       "3  Cashew Fudge  "
      ]
     },
     "execution_count": 100,
     "metadata": {},
     "output_type": "execute_result"
    }
   ],
   "source": [
    "creating_CSV = studentData.to_csv('cows_and_goats.csv', index=False)\n",
    "\n",
    "# checking the csv file\n",
    "trying = pd.read_csv('cows_and_goats.csv')\n",
    "trying"
   ]
  },
  {
   "cell_type": "markdown",
   "id": "d5e5176d-5bcf-4df5-afeb-d2cafac14776",
   "metadata": {},
   "source": [
    "20. (A) Using Pandas, make your own .CSV file with data on vegetables and save it.\n"
   ]
  },
  {
   "cell_type": "code",
   "execution_count": 101,
   "id": "f6f5d6d8-cccf-4bb3-998c-654f5fcc0593",
   "metadata": {},
   "outputs": [
    {
     "data": {
      "text/html": [
       "<div>\n",
       "<style scoped>\n",
       "    .dataframe tbody tr th:only-of-type {\n",
       "        vertical-align: middle;\n",
       "    }\n",
       "\n",
       "    .dataframe tbody tr th {\n",
       "        vertical-align: top;\n",
       "    }\n",
       "\n",
       "    .dataframe thead th {\n",
       "        text-align: right;\n",
       "    }\n",
       "</style>\n",
       "<table border=\"1\" class=\"dataframe\">\n",
       "  <thead>\n",
       "    <tr style=\"text-align: right;\">\n",
       "      <th></th>\n",
       "      <th>Bulbs</th>\n",
       "      <th>Flowers</th>\n",
       "      <th>Leaves</th>\n",
       "      <th>Stems</th>\n",
       "      <th>Root &amp; Tubers</th>\n",
       "      <th>Fruits</th>\n",
       "    </tr>\n",
       "  </thead>\n",
       "  <tbody>\n",
       "    <tr>\n",
       "      <th>0</th>\n",
       "      <td>Ramp</td>\n",
       "      <td>Cauliflower</td>\n",
       "      <td>Kale</td>\n",
       "      <td>Asparagus</td>\n",
       "      <td>Carrots</td>\n",
       "      <td>Tomatoes</td>\n",
       "    </tr>\n",
       "    <tr>\n",
       "      <th>1</th>\n",
       "      <td>Shallot</td>\n",
       "      <td>Broccoli</td>\n",
       "      <td>Lettuce</td>\n",
       "      <td>Bamboo Shoots</td>\n",
       "      <td>Beets</td>\n",
       "      <td>Cucumbers</td>\n",
       "    </tr>\n",
       "    <tr>\n",
       "      <th>2</th>\n",
       "      <td>Onions</td>\n",
       "      <td>Cabbage</td>\n",
       "      <td>Spinach</td>\n",
       "      <td>Rhubard</td>\n",
       "      <td>Potatoes</td>\n",
       "      <td>Avocado</td>\n",
       "    </tr>\n",
       "    <tr>\n",
       "      <th>3</th>\n",
       "      <td>Garlic</td>\n",
       "      <td>Dandelion</td>\n",
       "      <td>Collard</td>\n",
       "      <td>Celery</td>\n",
       "      <td>Taro</td>\n",
       "      <td>Olives</td>\n",
       "    </tr>\n",
       "    <tr>\n",
       "      <th>4</th>\n",
       "      <td>Kurat</td>\n",
       "      <td>Voilets</td>\n",
       "      <td>Parsley</td>\n",
       "      <td>Kohlrabi</td>\n",
       "      <td>Parsnips</td>\n",
       "      <td>Eggplant</td>\n",
       "    </tr>\n",
       "    <tr>\n",
       "      <th>5</th>\n",
       "      <td>Leek</td>\n",
       "      <td>Nasturtium</td>\n",
       "      <td>Mint Leaves</td>\n",
       "      <td>Leaks</td>\n",
       "      <td>Radishes</td>\n",
       "      <td>Sweet Corn</td>\n",
       "    </tr>\n",
       "  </tbody>\n",
       "</table>\n",
       "</div>"
      ],
      "text/plain": [
       "     Bulbs      Flowers       Leaves          Stems Root & Tubers      Fruits\n",
       "0     Ramp  Cauliflower         Kale      Asparagus       Carrots    Tomatoes\n",
       "1  Shallot     Broccoli      Lettuce  Bamboo Shoots         Beets   Cucumbers\n",
       "2   Onions      Cabbage      Spinach        Rhubard      Potatoes     Avocado\n",
       "3   Garlic    Dandelion      Collard         Celery          Taro      Olives\n",
       "4    Kurat      Voilets      Parsley       Kohlrabi      Parsnips    Eggplant\n",
       "5     Leek   Nasturtium  Mint Leaves          Leaks      Radishes  Sweet Corn"
      ]
     },
     "execution_count": 101,
     "metadata": {},
     "output_type": "execute_result"
    }
   ],
   "source": [
    "   my_list2= {'Bulbs': ['Ramp', 'Shallot', 'Onions', 'Garlic', 'Kurat', 'Leek'],\n",
    "        'Flowers': ['Cauliflower','Broccoli', 'Cabbage', 'Dandelion', 'Voilets', 'Nasturtium'],\n",
    "        'Leaves': ['Kale', 'Lettuce', 'Spinach', 'Collard', 'Parsley', 'Mint Leaves'],\n",
    "        'Stems': ['Asparagus', 'Bamboo Shoots', 'Rhubard', 'Celery', 'Kohlrabi', 'Leaks', ],\n",
    "        'Root & Tubers': ['Carrots', 'Beets','Potatoes', 'Taro', 'Parsnips', 'Radishes' ],\n",
    "        'Fruits': ['Tomatoes', 'Cucumbers', 'Avocado', 'Olives', 'Eggplant','Sweet Corn']}\n",
    "my_ownDF = pd.DataFrame(my_list2, columns=['Bulbs', 'Flowers',\n",
    "                                    'Leaves', 'Stems','Root & Tubers', 'Fruits'])\n",
    "my_ownDF"
   ]
  },
  {
   "cell_type": "code",
   "execution_count": 102,
   "id": "c3ab3d56-34dd-4c7e-a835-d1b128d9cd38",
   "metadata": {},
   "outputs": [
    {
     "data": {
      "text/html": [
       "<div>\n",
       "<style scoped>\n",
       "    .dataframe tbody tr th:only-of-type {\n",
       "        vertical-align: middle;\n",
       "    }\n",
       "\n",
       "    .dataframe tbody tr th {\n",
       "        vertical-align: top;\n",
       "    }\n",
       "\n",
       "    .dataframe thead th {\n",
       "        text-align: right;\n",
       "    }\n",
       "</style>\n",
       "<table border=\"1\" class=\"dataframe\">\n",
       "  <thead>\n",
       "    <tr style=\"text-align: right;\">\n",
       "      <th></th>\n",
       "      <th>Bulbs</th>\n",
       "      <th>Flowers</th>\n",
       "      <th>Leaves</th>\n",
       "      <th>Stems</th>\n",
       "      <th>Root &amp; Tubers</th>\n",
       "      <th>Fruits</th>\n",
       "    </tr>\n",
       "  </thead>\n",
       "  <tbody>\n",
       "    <tr>\n",
       "      <th>0</th>\n",
       "      <td>Ramp</td>\n",
       "      <td>Cauliflower</td>\n",
       "      <td>Kale</td>\n",
       "      <td>Asparagus</td>\n",
       "      <td>Carrots</td>\n",
       "      <td>Tomatoes</td>\n",
       "    </tr>\n",
       "    <tr>\n",
       "      <th>1</th>\n",
       "      <td>Shallot</td>\n",
       "      <td>Broccoli</td>\n",
       "      <td>Lettuce</td>\n",
       "      <td>Bamboo Shoots</td>\n",
       "      <td>Beets</td>\n",
       "      <td>Cucumbers</td>\n",
       "    </tr>\n",
       "    <tr>\n",
       "      <th>2</th>\n",
       "      <td>Onions</td>\n",
       "      <td>Cabbage</td>\n",
       "      <td>Spinach</td>\n",
       "      <td>Rhubard</td>\n",
       "      <td>Potatoes</td>\n",
       "      <td>Avocado</td>\n",
       "    </tr>\n",
       "    <tr>\n",
       "      <th>3</th>\n",
       "      <td>Garlic</td>\n",
       "      <td>Dandelion</td>\n",
       "      <td>Collard</td>\n",
       "      <td>Celery</td>\n",
       "      <td>Taro</td>\n",
       "      <td>Olives</td>\n",
       "    </tr>\n",
       "    <tr>\n",
       "      <th>4</th>\n",
       "      <td>Kurat</td>\n",
       "      <td>Voilets</td>\n",
       "      <td>Parsley</td>\n",
       "      <td>Kohlrabi</td>\n",
       "      <td>Parsnips</td>\n",
       "      <td>Eggplant</td>\n",
       "    </tr>\n",
       "    <tr>\n",
       "      <th>5</th>\n",
       "      <td>Leek</td>\n",
       "      <td>Nasturtium</td>\n",
       "      <td>Mint Leaves</td>\n",
       "      <td>Leaks</td>\n",
       "      <td>Radishes</td>\n",
       "      <td>Sweet Corn</td>\n",
       "    </tr>\n",
       "  </tbody>\n",
       "</table>\n",
       "</div>"
      ],
      "text/plain": [
       "     Bulbs      Flowers       Leaves          Stems Root & Tubers      Fruits\n",
       "0     Ramp  Cauliflower         Kale      Asparagus       Carrots    Tomatoes\n",
       "1  Shallot     Broccoli      Lettuce  Bamboo Shoots         Beets   Cucumbers\n",
       "2   Onions      Cabbage      Spinach        Rhubard      Potatoes     Avocado\n",
       "3   Garlic    Dandelion      Collard         Celery          Taro      Olives\n",
       "4    Kurat      Voilets      Parsley       Kohlrabi      Parsnips    Eggplant\n",
       "5     Leek   Nasturtium  Mint Leaves          Leaks      Radishes  Sweet Corn"
      ]
     },
     "execution_count": 102,
     "metadata": {},
     "output_type": "execute_result"
    }
   ],
   "source": [
    "creating_CSV2 = my_ownDF.to_csv('myown.csv', index=False)\n",
    "\n",
    "# checking the csv file\n",
    "tried = pd.read_csv('myown.csv')\n",
    "tried"
   ]
  },
  {
   "cell_type": "markdown",
   "id": "d3b7e471-9377-4de2-b77d-9c9f71a905e8",
   "metadata": {},
   "source": [
    "   \n",
    "   20.(B) Using Pandas, make a change to your CSV file, and save a copy with a different name."
   ]
  },
  {
   "cell_type": "code",
   "execution_count": 103,
   "id": "99a96e14-4e82-4ef0-999a-178ff56e175c",
   "metadata": {},
   "outputs": [],
   "source": [
    "my_ownDF.to_csv('myown.csvi', sep='|',index=False)"
   ]
  },
  {
   "cell_type": "code",
   "execution_count": 104,
   "id": "7e8afbd8-ff61-41c9-a619-dd4115304c0c",
   "metadata": {},
   "outputs": [
    {
     "data": {
      "text/html": [
       "<div>\n",
       "<style scoped>\n",
       "    .dataframe tbody tr th:only-of-type {\n",
       "        vertical-align: middle;\n",
       "    }\n",
       "\n",
       "    .dataframe tbody tr th {\n",
       "        vertical-align: top;\n",
       "    }\n",
       "\n",
       "    .dataframe thead th {\n",
       "        text-align: right;\n",
       "    }\n",
       "</style>\n",
       "<table border=\"1\" class=\"dataframe\">\n",
       "  <thead>\n",
       "    <tr style=\"text-align: right;\">\n",
       "      <th></th>\n",
       "      <th>Bulbs|Flowers|Leaves|Stems|Root &amp; Tubers|Fruits</th>\n",
       "    </tr>\n",
       "  </thead>\n",
       "  <tbody>\n",
       "    <tr>\n",
       "      <th>0</th>\n",
       "      <td>Ramp|Cauliflower|Kale|Asparagus|Carrots|Tomatoes</td>\n",
       "    </tr>\n",
       "    <tr>\n",
       "      <th>1</th>\n",
       "      <td>Shallot|Broccoli|Lettuce|Bamboo Shoots|Beets|C...</td>\n",
       "    </tr>\n",
       "    <tr>\n",
       "      <th>2</th>\n",
       "      <td>Onions|Cabbage|Spinach|Rhubard|Potatoes|Avocado</td>\n",
       "    </tr>\n",
       "    <tr>\n",
       "      <th>3</th>\n",
       "      <td>Garlic|Dandelion|Collard|Celery|Taro|Olives</td>\n",
       "    </tr>\n",
       "    <tr>\n",
       "      <th>4</th>\n",
       "      <td>Kurat|Voilets|Parsley|Kohlrabi|Parsnips|Eggplant</td>\n",
       "    </tr>\n",
       "    <tr>\n",
       "      <th>5</th>\n",
       "      <td>Leek|Nasturtium|Mint Leaves|Leaks|Radishes|Swe...</td>\n",
       "    </tr>\n",
       "  </tbody>\n",
       "</table>\n",
       "</div>"
      ],
      "text/plain": [
       "     Bulbs|Flowers|Leaves|Stems|Root & Tubers|Fruits\n",
       "0   Ramp|Cauliflower|Kale|Asparagus|Carrots|Tomatoes\n",
       "1  Shallot|Broccoli|Lettuce|Bamboo Shoots|Beets|C...\n",
       "2    Onions|Cabbage|Spinach|Rhubard|Potatoes|Avocado\n",
       "3        Garlic|Dandelion|Collard|Celery|Taro|Olives\n",
       "4   Kurat|Voilets|Parsley|Kohlrabi|Parsnips|Eggplant\n",
       "5  Leek|Nasturtium|Mint Leaves|Leaks|Radishes|Swe..."
      ]
     },
     "execution_count": 104,
     "metadata": {},
     "output_type": "execute_result"
    }
   ],
   "source": [
    "tried1 = pd.read_csv('myown.csvi')\n",
    "tried1"
   ]
  },
  {
   "cell_type": "code",
   "execution_count": null,
   "id": "f8ebfd0c-19b0-4b26-8183-24625c8182fb",
   "metadata": {},
   "outputs": [],
   "source": []
  }
 ],
 "metadata": {
  "kernelspec": {
   "display_name": "Python 3 (ipykernel)",
   "language": "python",
   "name": "python3"
  },
  "language_info": {
   "codemirror_mode": {
    "name": "ipython",
    "version": 3
   },
   "file_extension": ".py",
   "mimetype": "text/x-python",
   "name": "python",
   "nbconvert_exporter": "python",
   "pygments_lexer": "ipython3",
   "version": "3.11.4"
  }
 },
 "nbformat": 4,
 "nbformat_minor": 5
}
