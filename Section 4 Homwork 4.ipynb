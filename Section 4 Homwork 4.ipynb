{
 "cells": [
  {
   "cell_type": "markdown",
   "id": "fd692279-f5a8-44cd-ab95-155632f0c8a4",
   "metadata": {},
   "source": [
    "Q1. What does one need to do to use a module?\\\n",
    "*One needs to import the respective module before it can be use* "
   ]
  },
  {
   "cell_type": "markdown",
   "id": "d78d8cb2-012e-4d79-8220-19a11b6ad374",
   "metadata": {},
   "source": [
    "Q2. Name a Module (not the DateTime Nodule) we looked at and write a line or 2 of code as an example using this module.\n",
    "* random module"
   ]
  },
  {
   "cell_type": "code",
   "execution_count": 3,
   "id": "85b0f5dc-0c21-4835-8990-45213e76f4d6",
   "metadata": {},
   "outputs": [
    {
     "name": "stdout",
     "output_type": "stream",
     "text": [
      "Getting a counting number ... 11\n"
     ]
    }
   ],
   "source": [
    "# using random methods\n",
    "import random\n",
    "\n",
    "# Return a number between 1 and 20:\n",
    "Counting_No=random.randrange(1,21)\n",
    "print(\"Getting a counting number ...\", Counting_No)"
   ]
  },
  {
   "cell_type": "markdown",
   "id": "0f083c83-4fe1-4a64-96cd-9e82e1110139",
   "metadata": {},
   "source": [
    "Q3. What is a benefit of using Exception handling?\n",
    "* It helps you to test a block of codes for an error\n",
    "* It also helps you to execute a code regardless of the results"
   ]
  },
  {
   "cell_type": "markdown",
   "id": "ed939980-20c5-48de-a0c3-b248e40a4e39",
   "metadata": {},
   "source": [
    "Q4. what are the 4 components used for Python Exception Handling?\n",
    "* try\n",
    "* except\n",
    "* else\n",
    "* finally"
   ]
  },
  {
   "cell_type": "markdown",
   "id": "183e8078-2125-44d9-8d08-82790b730268",
   "metadata": {},
   "source": [
    "Q5. NumPy arrays are like what Python data type?\n",
    "* List"
   ]
  },
  {
   "cell_type": "markdown",
   "id": "f79f1ece-2c70-4a72-b153-86599e80dedb",
   "metadata": {},
   "source": [
    "Q6. What is one of the main benefits of using NumPy arrays.\n",
    "* saves time because it is fast\n",
    "* it uses less memory\n",
    "* it is very convenient"
   ]
  },
  {
   "cell_type": "markdown",
   "id": "68cdd481-cfcd-4689-9268-fe6f8a58db20",
   "metadata": {},
   "source": [
    "Q7. What is one of the main requirements about the 'dtype' of NumPy arrays?\n",
    "* object\n",
    "* align\n",
    "* copy"
   ]
  },
  {
   "cell_type": "markdown",
   "id": "14733861-2e4c-48e9-a4c1-e55e05b68ad8",
   "metadata": {},
   "source": [
    "Q8. Of the 10 uses of NumPy, name 2.\n",
    "* NumPy can be used as an efficient multi-dimensional container of generic data\n",
    "* Adds powerful data structures to Python that guarantee efficient calculations with arrays and matrices"
   ]
  },
  {
   "cell_type": "markdown",
   "id": "335ccd6f-5886-496a-8429-e5b44f60f21f",
   "metadata": {},
   "source": [
    "Q9. Name one of the other libraries we'll use with NumPy?\n",
    "* SciPy\n",
    "* Pandas\n",
    "* Matplotlib\n",
    "* Tkinter"
   ]
  },
  {
   "cell_type": "markdown",
   "id": "2bde702b-4528-4e75-9419-e214fe835764",
   "metadata": {},
   "source": [
    "Q10. What is the shape of NumPy arrays?\n",
    "* refers to the dimensions or the size of each axis of the array"
   ]
  },
  {
   "cell_type": "markdown",
   "id": "1fa343ec-9d94-465f-8bea-c5e211b87930",
   "metadata": {},
   "source": [
    "Q11. What is a Tensor?\n",
    "* an array with 3+ dimensions"
   ]
  },
  {
   "cell_type": "markdown",
   "id": "e7ee526d-9cd3-4276-9f39-ea514c60c4dc",
   "metadata": {},
   "source": [
    "Q12. Name a reason why it's better using NumPy for Data Analysis than using a Python List?\n",
    "* very fast and uses less memory"
   ]
  },
  {
   "cell_type": "markdown",
   "id": "32e5f5ab-354f-497d-b9a8-4c0406d1a400",
   "metadata": {},
   "source": [
    "Q13. When creating an \"empty\" array, where do the elements come from?\n",
    "* is random and depends on the state of the memory"
   ]
  },
  {
   "cell_type": "markdown",
   "id": "648cebc4-53cb-4970-a900-f4b47e9ae94f",
   "metadata": {},
   "source": [
    "## Flow Control Methods"
   ]
  },
  {
   "cell_type": "markdown",
   "id": "3db95920-4239-4467-bda5-01f04a23c2cf",
   "metadata": {},
   "source": [
    "Q1. Create an if statement: if 'age' is greater than or equal to 25, print \"Renting a car is more affordable\", however if 'age' is less than 25, print \"Renting a car is very expensive.\""
   ]
  },
  {
   "cell_type": "code",
   "execution_count": 4,
   "id": "60876b19-c87b-483e-af66-61c425c872ee",
   "metadata": {},
   "outputs": [
    {
     "name": "stdout",
     "output_type": "stream",
     "text": [
      "Renting car is more affordable\n",
      "Renting car is very expensive\n"
     ]
    }
   ],
   "source": [
    "age= 26\n",
    "age1 =20\n",
    "if age >= 25:\n",
    "    print('Renting car is more affordable')\n",
    "if age1 < 25:\n",
    "    print('Renting car is very expensive')"
   ]
  },
  {
   "cell_type": "markdown",
   "id": "2b183211-f743-4827-ab1c-f646ab49bc59",
   "metadata": {},
   "source": [
    "Q2. Create and chain an if-else statement: if 'age' is greater than or equal to 25, print \"Renting a car is more affordable.\" If 'age' is less than 25 but greater than or equal to 18, print \"Renting a car is very expensive.\" Finally, if age is less than 18, print \"You cannot legally rent a car.\""
   ]
  },
  {
   "cell_type": "code",
   "execution_count": 5,
   "id": "7d242165-8b6f-42df-9aec-cd2f2410a2ae",
   "metadata": {},
   "outputs": [
    {
     "name": "stdout",
     "output_type": "stream",
     "text": [
      "age =  29\n",
      "Renting car is more affordable\n"
     ]
    }
   ],
   "source": [
    "age = 29\n",
    "print(\"age = \", age)\n",
    "\n",
    "if age >= 25:\n",
    "    print(\"Renting car is more affordable\")\n",
    "    if age >= 18 and age < 25:\n",
    "        print(\"Renting car is very expensive\")  \n",
    "else:\n",
    "    print(\"You cannot legally rent a car.\")\n"
   ]
  },
  {
   "cell_type": "code",
   "execution_count": 6,
   "id": "de10b5d5-b4e3-4b2d-8601-4f841bc6e0fd",
   "metadata": {},
   "outputs": [
    {
     "name": "stdout",
     "output_type": "stream",
     "text": [
      "age =  24\n",
      "Renting car is very expensive\n"
     ]
    }
   ],
   "source": [
    "age = 24\n",
    "print(\"age = \", age)\n",
    "\n",
    "if age >= 25:\n",
    "    print(\"Renting car is more affordable\")\n",
    "if age >= 18 and age < 25:\n",
    "        print(\"Renting car is very expensive\")\n",
    "else:\n",
    "    print(\"You cannot legally rent a car.\")\n"
   ]
  },
  {
   "cell_type": "code",
   "execution_count": 7,
   "id": "44b833b6-04f5-47a2-852d-6f37fe87910d",
   "metadata": {},
   "outputs": [
    {
     "name": "stdout",
     "output_type": "stream",
     "text": [
      "age =  18\n",
      "You cannot legally rent a car.\n"
     ]
    }
   ],
   "source": [
    "age = 18\n",
    "print(\"age = \", age)\n",
    "\n",
    "if age >= 25:\n",
    "    print(\"Renting car is more affordable\")\n",
    "    if age< 25 and age >= 18:\n",
    "        print(\"Renting car is very expensive\")\n",
    "else:\n",
    "    print(\"You cannot legally rent a car.\")\n"
   ]
  },
  {
   "cell_type": "markdown",
   "id": "c148d801-5d16-403c-89cb-feb6a83a7d0e",
   "metadata": {},
   "source": [
    "Q3. Loop over the following string to (1) count all the characters in the string and (2) print out all the vowels -- \"The quick brown fox jumps over the lazy dog\""
   ]
  },
  {
   "cell_type": "code",
   "execution_count": 8,
   "id": "9eb52641-898f-45d4-974e-ef04942ca0cd",
   "metadata": {},
   "outputs": [
    {
     "name": "stdout",
     "output_type": "stream",
     "text": [
      "all my characters is = 43\n"
     ]
    }
   ],
   "source": [
    "my_string ='The quick brown fox jumps over the lazy dog'\n",
    "#  count all the characters in the string\n",
    "print('all my characters is =', len(my_string))"
   ]
  },
  {
   "cell_type": "code",
   "execution_count": 9,
   "id": "b038ba68-1f92-4bd1-b3a8-8c460e8d4355",
   "metadata": {},
   "outputs": [
    {
     "name": "stdout",
     "output_type": "stream",
     "text": [
      "e\n",
      "u\n",
      "i\n",
      "o\n",
      "o\n",
      "u\n",
      "o\n",
      "e\n",
      "e\n",
      "a\n",
      "o\n"
     ]
    }
   ],
   "source": [
    "# print out all the vowels\n",
    "my_string ='The quick brown fox jumps over the lazy dog'\n",
    "for i in my_string:\n",
    "    if not i in \"aeiou\":\n",
    "        continue\n",
    "    print(i)"
   ]
  },
  {
   "cell_type": "markdown",
   "id": "9ed3ccf1-2e19-40bd-8d4b-b2d243be538e",
   "metadata": {},
   "source": [
    "Q4. Write a nested loop that prints out every piece of clothing from the couture list, in every fashionable color from the panettone set: couture = [\"trousers\", \"blouse\", \"bandana\", \"cumber band\", \"blazer\", \"vest\", \"french beret\", \"scarf\", \"stole\"] and panettone = {\"cerise\", \"fuchsia\", \"aqua\", \"maple\", \"auburn\", \"burnt sienna\", \"gunmetal blue\", \"Dark Sapphire\"}"
   ]
  },
  {
   "cell_type": "code",
   "execution_count": null,
   "id": "e98b98d0-1e92-409d-a3ab-ec1615d2f363",
   "metadata": {},
   "outputs": [],
   "source": []
  },
  {
   "cell_type": "markdown",
   "id": "08b4af42-fec7-4a4e-a647-2f50c44450b8",
   "metadata": {},
   "source": [
    "Q5. Use range as a loop to calculate the sum of all the numbers from 1 to 100"
   ]
  },
  {
   "cell_type": "code",
   "execution_count": 10,
   "id": "72b46d9a-ba57-4f8c-8806-beb23af2d7e2",
   "metadata": {},
   "outputs": [
    {
     "name": "stdout",
     "output_type": "stream",
     "text": [
      "4950\n"
     ]
    }
   ],
   "source": [
    "sum=0\n",
    "for i in range(1, 100):\n",
    "    sum+= i\n",
    "print(sum)\n",
    "    "
   ]
  },
  {
   "cell_type": "code",
   "execution_count": 11,
   "id": "6ccd7b34-bdf8-4d0f-ab1b-d1ea78683bde",
   "metadata": {},
   "outputs": [
    {
     "name": "stdout",
     "output_type": "stream",
     "text": [
      "1225\n"
     ]
    }
   ],
   "source": [
    "sum=0\n",
    "for i in range(1, 50):\n",
    "    sum+= i\n",
    "print(sum)\n",
    "    "
   ]
  },
  {
   "cell_type": "markdown",
   "id": "240a6277-65d7-4d1e-b3a5-85b236f32633",
   "metadata": {},
   "source": [
    "Q6. Print the second item in this fruits list. [\"apple\", \"banana\", \"cherry\"]\n",
    "\n"
   ]
  },
  {
   "cell_type": "code",
   "execution_count": 12,
   "id": "77eda168-153d-4927-a3a0-77f838a701ea",
   "metadata": {},
   "outputs": [
    {
     "name": "stdout",
     "output_type": "stream",
     "text": [
      "the second item is= banana\n"
     ]
    }
   ],
   "source": [
    "fruit_list=['apple','banana','cherry']\n",
    "print('the second item is=', fruit_list[1])"
   ]
  },
  {
   "cell_type": "markdown",
   "id": "4d80eba6-7c86-491c-bd87-9d35c805baf0",
   "metadata": {},
   "source": [
    "Q7. Change the value from \"apple\" to \"kiwi\", in the fruits list. [\"apple\", \"banana\", \"cherry\"]\n",
    "\n"
   ]
  },
  {
   "cell_type": "code",
   "execution_count": 13,
   "id": "769aeea1-2b57-4d8d-bbda-b0774e6cabd0",
   "metadata": {},
   "outputs": [
    {
     "name": "stdout",
     "output_type": "stream",
     "text": [
      "updated fruit list is = ['apple', 'kiwi', 'cherry']\n"
     ]
    }
   ],
   "source": [
    "fruit_list1=['apple','banana','cherry']\n",
    "fruit_list1[1] = 'kiwi'\n",
    "print('updated fruit list is =',fruit_list1)"
   ]
  },
  {
   "cell_type": "markdown",
   "id": "89b529b3-c571-4f06-b3a3-5a3eb14e7a85",
   "metadata": {},
   "source": [
    "Q8. Use the append method to add \"orange\" to the fruits list. [\"apple\", \"banana\", \"cherry\"]\n",
    "\n"
   ]
  },
  {
   "cell_type": "code",
   "execution_count": 14,
   "id": "76d61aa5-51c6-4256-8f33-9e8cd2d224a5",
   "metadata": {},
   "outputs": [
    {
     "name": "stdout",
     "output_type": "stream",
     "text": [
      " new fruit list  ['apple', 'banana', 'cherry', 'orange']\n"
     ]
    }
   ],
   "source": [
    "# 'APPEND' elements at the end of the list\n",
    "fruit_list2=['apple','banana','cherry']\n",
    "fruit_list2.append('orange')\n",
    "print(\" new fruit list \", fruit_list2)"
   ]
  },
  {
   "cell_type": "markdown",
   "id": "9806b2c8-352f-470b-aaf1-f596ea022a77",
   "metadata": {},
   "source": [
    "Q9. Use the insert method to add \"lemon\" as the second item in the fruits list. [\"apple\", \"banana\", \"cherry\"]\n",
    "\n"
   ]
  },
  {
   "cell_type": "code",
   "execution_count": 15,
   "id": "a65acdd7-39f9-458f-abd2-73f10d96bed9",
   "metadata": {},
   "outputs": [
    {
     "name": "stdout",
     "output_type": "stream",
     "text": [
      " adding lemon as second item  ['apple', 'lemon', 'banana', 'cherry']\n"
     ]
    }
   ],
   "source": [
    "fruit_list3=['apple','banana','cherry']\n",
    "fruit_list3.insert(1,'lemon')\n",
    "print(\" adding lemon as second item \", fruit_list3)"
   ]
  },
  {
   "cell_type": "markdown",
   "id": "2808a5ca-2ed0-45c7-93bc-727111cd4ccc",
   "metadata": {},
   "source": [
    "Q10. Use the remove method to remove \"banana\" from the fruits list. [\"apple\", \"banana\", \"cherry\"]\n",
    "\n"
   ]
  },
  {
   "cell_type": "code",
   "execution_count": 16,
   "id": "e7ae6450-a48e-4a52-84b6-7634f56e2b22",
   "metadata": {},
   "outputs": [
    {
     "name": "stdout",
     "output_type": "stream",
     "text": [
      " removing banana from fruit list  ['apple', 'cherry']\n"
     ]
    }
   ],
   "source": [
    "fruit_list4=['apple','banana','cherry']\n",
    "fruit_list4.remove('banana')\n",
    "print(\" removing banana from fruit list \", fruit_list4)"
   ]
  },
  {
   "cell_type": "markdown",
   "id": "3bef7813-6f59-4903-bf6c-0b769a846e1d",
   "metadata": {},
   "source": [
    "Q11. Use negative indexing to print the 3rd and 2nd to last items in the list. [\"apple\", \"banana\", \"cherry\", \"orange\", \"kiwi\", \"melon\", \"mango\"]\n",
    "\n"
   ]
  },
  {
   "cell_type": "code",
   "execution_count": 17,
   "id": "65cee997-5824-4f96-8c9f-1a70cebf68e0",
   "metadata": {},
   "outputs": [
    {
     "name": "stdout",
     "output_type": "stream",
     "text": [
      "3rd item from the right is= kiwi\n",
      "2nd item from the right is= melon\n"
     ]
    }
   ],
   "source": [
    "fruity=[\"apple\", \"banana\", \"cherry\", \"orange\", \"kiwi\", \"melon\", \"mango\"]\n",
    "# 3rd item\n",
    "print('3rd item from the right is=', fruity[-3])\n",
    "\n",
    "# 2nd item\n",
    "print('2nd item from the right is=', fruity[-2])     "
   ]
  },
  {
   "cell_type": "markdown",
   "id": "68ab374a-8f7d-4fe8-bc50-8a91e5639ec4",
   "metadata": {},
   "source": [
    "Q12. Use a range of indexes to print the third, fourth, and fifth item in the list. [\"apple\", \"banana\", \"cherry\", \"orange\", \"kiwi\", \"melon\", \"mango\"]\n",
    "\n"
   ]
  },
  {
   "cell_type": "code",
   "execution_count": 18,
   "id": "5e71a47a-cf59-4027-bc20-24840c8889ba",
   "metadata": {},
   "outputs": [
    {
     "name": "stdout",
     "output_type": "stream",
     "text": [
      "the 3rd , 4th and 5th item is = ['cherry', 'orange', 'kiwi']\n"
     ]
    }
   ],
   "source": [
    "fruits=[\"apple\", \"banana\", \"cherry\", \"orange\", \"kiwi\", \"melon\", \"mango\"]\n",
    "# printing the third, fourth and fith item frim the list\n",
    "print('the 3rd , 4th and 5th item is =', fruits[2:5])"
   ]
  },
  {
   "cell_type": "markdown",
   "id": "da25d7d4-297c-4e94-a9e8-2147ffd6ddeb",
   "metadata": {},
   "source": [
    "Q13. Use the correct syntax to print the number of items in the list. [\"apple\", \"banana\", \"cherry\", \"orange\", \"kiwi\", \"melon\", \"mango\"]\n",
    "\n"
   ]
  },
  {
   "cell_type": "code",
   "execution_count": 19,
   "id": "11f00a6d-86ab-4891-94d1-998d7fef3465",
   "metadata": {},
   "outputs": [
    {
     "name": "stdout",
     "output_type": "stream",
     "text": [
      "the number of items in the list is = 7\n"
     ]
    }
   ],
   "source": [
    "Fruit=[\"apple\", \"banana\", \"cherry\", \"orange\", \"kiwi\", \"melon\", \"mango\"]\n",
    "print('the number of items in the list is =', len(Fruit))"
   ]
  },
  {
   "cell_type": "markdown",
   "id": "1ce34f5f-e4ba-4d3e-9b82-25f4cbc64506",
   "metadata": {},
   "source": [
    "Q14. Use the correct syntax to sort this list in reverse order [\"apple\", \"banana\", \"cherry\", \"orange\", \"kiwi\", \"melon\", \"mango\"]"
   ]
  },
  {
   "cell_type": "code",
   "execution_count": 20,
   "id": "613b386b-3d95-4334-a08e-1899ff4b4b44",
   "metadata": {},
   "outputs": [
    {
     "name": "stdout",
     "output_type": "stream",
     "text": [
      "Reverse fruit list = ['mango', 'melon', 'kiwi', 'orange', 'cherry', 'banana', 'apple']\n"
     ]
    }
   ],
   "source": [
    "# reversing the list\n",
    "FRUITY=[\"apple\", \"banana\", \"cherry\", \"orange\", \"kiwi\", \"melon\", \"mango\"]\n",
    "\n",
    "# Reversing a list using slicing technique\n",
    "def Reverse(FRUITY):\n",
    "   new_Fruit_list = FRUITY[::-1]\n",
    "   return new_Fruit_list\n",
    "print('Reverse fruit list =', Reverse(FRUITY))"
   ]
  },
  {
   "cell_type": "markdown",
   "id": "0b1a8a01-656c-4a73-be0a-d29a15cba228",
   "metadata": {},
   "source": [
    "## Use a Python code file for this section"
   ]
  },
  {
   "cell_type": "markdown",
   "id": "a984e0c2-0a83-46c4-b4ee-c42339fc23b8",
   "metadata": {},
   "source": [
    "Q15. Use the DateTime module to get Current Date and Time, and save it to a variable. Then extract just the Full month name form that variable.\n",
    "\n"
   ]
  },
  {
   "cell_type": "code",
   "execution_count": 21,
   "id": "07420520-3e6e-481b-bc65-810be7f76560",
   "metadata": {},
   "outputs": [
    {
     "name": "stdout",
     "output_type": "stream",
     "text": [
      "Current Date and Time ... 2023-08-20 21:55:27.977816\n"
     ]
    }
   ],
   "source": [
    "# using Date Time\n",
    "import datetime as dt\n",
    "\n",
    "# Get Current Date and Time\n",
    "Current_time = dt.datetime.now()\n",
    "print(\"Current Date and Time ...\", Current_time)\n"
   ]
  },
  {
   "cell_type": "code",
   "execution_count": 22,
   "id": "46f7d651-6589-4fd0-aefe-470b7994670f",
   "metadata": {},
   "outputs": [
    {
     "name": "stdout",
     "output_type": "stream",
     "text": [
      "Current month: 8\n"
     ]
    }
   ],
   "source": [
    "# Extracting Full month name\n",
    "from datetime import date\n",
    "today = date.today()\n",
    "print(\"Current month:\", today.month)"
   ]
  },
  {
   "cell_type": "markdown",
   "id": "f9c6cb5c-c4b7-4d86-a377-75bc1cea22a9",
   "metadata": {},
   "source": [
    "Q16. Write a simple function that takes 2 parameters -- a first name and a day name.\n"
   ]
  },
  {
   "cell_type": "code",
   "execution_count": 23,
   "id": "537a2279-3760-429a-8f0b-9e245f6fda80",
   "metadata": {},
   "outputs": [
    {
     "name": "stdout",
     "output_type": "stream",
     "text": [
      "Sylvester Monday\n"
     ]
    }
   ],
   "source": [
    "# Set a default value for the day name of Sunday.\n",
    "def first_Name(fname):\n",
    "    print(fname +  \"Monday\")\n",
    "\n",
    "first_Name(\"Sylvester \")"
   ]
  },
  {
   "cell_type": "code",
   "execution_count": 24,
   "id": "3db4217e-9344-468d-b1cd-76e9e3e9d314",
   "metadata": {},
   "outputs": [
    {
     "name": "stdout",
     "output_type": "stream",
     "text": [
      "Sylvester Wednesday\n"
     ]
    }
   ],
   "source": [
    "def displayMessage(argument1, argument2):\n",
    "          print(argument1+\" \"+argument2 )\n",
    " \n",
    "# function call\n",
    "displayMessage(\"Sylvester\", \"Wednesday\")"
   ]
  },
  {
   "cell_type": "code",
   "execution_count": 25,
   "id": "8737ca0c-b25f-4efa-ae24-0c80f348959a",
   "metadata": {},
   "outputs": [
    {
     "name": "stdout",
     "output_type": "stream",
     "text": [
      "Hi Sylvester! Happy Wednesday!\n"
     ]
    }
   ],
   "source": [
    "# Have the function print out a greeting -- using the parameters -- that says something like \"Hi first-name! Happy day-name!\". Remember to use the variables in the greeting to replace first-name and day-name.\n",
    "def practice(argument1, argument2):\n",
    "          print('Hi' ,argument1+\" \"+'Happy' ,argument2 )\n",
    " \n",
    "# function call\n",
    "practice(\"Sylvester!\", \"Wednesday!\")"
   ]
  },
  {
   "cell_type": "code",
   "execution_count": 26,
   "id": "1561ee16-ec96-4be9-84b3-0f497eaf528f",
   "metadata": {},
   "outputs": [
    {
     "name": "stdout",
     "output_type": "stream",
     "text": [
      "This is Sylvester he is from Massachusetts!\n"
     ]
    }
   ],
   "source": [
    "# Invoke this function with 2 variables.\n",
    "# defining the variables\n",
    "def my_info():\n",
    "    name = input('what is my name? ')\n",
    "    state = input('which state are you staying? ')\n",
    "    trying(name, state)\n",
    "\n",
    "def trying(name, state):\n",
    "          print('This is' ,name+\" \"+'he is from' ,state, )\n",
    " \n",
    "# function call\n",
    "trying(\"Sylvester\", \"Massachusetts!\")"
   ]
  },
  {
   "cell_type": "code",
   "execution_count": 27,
   "id": "61557f79-3b8f-4116-83bd-21ffb38df7c0",
   "metadata": {},
   "outputs": [
    {
     "name": "stdout",
     "output_type": "stream",
     "text": [
      "I hate winter\n"
     ]
    }
   ],
   "source": [
    "# Invoke this function with 1 variable only.\n",
    "def display(season):\n",
    "          print('I hate' ,season  )\n",
    " \n",
    "# function call\n",
    "display(\"winter\")"
   ]
  },
  {
   "cell_type": "markdown",
   "id": "665e497b-20b3-4706-85c2-bda16f50e653",
   "metadata": {},
   "source": [
    "Q17. Write a block of code to handle one of the most common Python exception errors. Select one of the common errors from the curriculum section on Python Exception handling. Have your code example uses the try,except, else, and finally components."
   ]
  },
  {
   "cell_type": "code",
   "execution_count": 28,
   "id": "f0311981-34b5-40cc-b1d5-28a46d35191b",
   "metadata": {},
   "outputs": [
    {
     "name": "stdout",
     "output_type": "stream",
     "text": [
      "Hello\n",
      "Nothing went wrong\n",
      "The 'try except' is finished\n"
     ]
    }
   ],
   "source": [
    "try: \n",
    "    print(\"Hello\")\n",
    "except:\n",
    "    print(\"Something went wrong\")\n",
    "else:\n",
    "    print(\"Nothing went wrong\")\n",
    "finally:\n",
    "    print(\"The 'try except' is finished\")"
   ]
  },
  {
   "cell_type": "code",
   "execution_count": 29,
   "id": "e81c38d1-2f86-46db-95c9-65f8257f0f1b",
   "metadata": {},
   "outputs": [
    {
     "name": "stdout",
     "output_type": "stream",
     "text": [
      "Nothing went wrong\n",
      "The 'try else' is finished\n"
     ]
    }
   ],
   "source": [
    "# when the except statement is not true\n",
    "try: \n",
    "    x=10+7\n",
    "except:\n",
    "    print(\"Something went wrong\")\n",
    "else:\n",
    "    print(\"Nothing went wrong\")\n",
    "finally:\n",
    "    print(\"The 'try else' is finished\")"
   ]
  },
  {
   "cell_type": "code",
   "execution_count": 30,
   "id": "3b46f6bd-4b3c-4d7f-963b-11a9258d1ddd",
   "metadata": {},
   "outputs": [
    {
     "name": "stdout",
     "output_type": "stream",
     "text": [
      "Something went wrong\n",
      "The 'try except' is finished\n"
     ]
    }
   ],
   "source": [
    "# when the except statement is true\n",
    "try: \n",
    "    x1=x1+12\n",
    "except:\n",
    "    print(\"Something went wrong\")\n",
    "else:\n",
    "    print(\"Nothing went wrong\")\n",
    "finally:\n",
    "    print(\"The 'try except' is finished\")"
   ]
  },
  {
   "cell_type": "code",
   "execution_count": null,
   "id": "4405b0e3-8dfc-49ba-a90d-8dce1dc09192",
   "metadata": {},
   "outputs": [],
   "source": []
  }
 ],
 "metadata": {
  "kernelspec": {
   "display_name": "Python 3 (ipykernel)",
   "language": "python",
   "name": "python3"
  },
  "language_info": {
   "codemirror_mode": {
    "name": "ipython",
    "version": 3
   },
   "file_extension": ".py",
   "mimetype": "text/x-python",
   "name": "python",
   "nbconvert_exporter": "python",
   "pygments_lexer": "ipython3",
   "version": "3.11.4"
  }
 },
 "nbformat": 4,
 "nbformat_minor": 5
}
